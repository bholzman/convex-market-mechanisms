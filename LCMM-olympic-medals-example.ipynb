{
 "cells": [
  {
   "cell_type": "markdown",
   "metadata": {},
   "source": [
    "[Convex.jl documentation](http://convexjl.readthedocs.org/en/latest/operations.html)"
   ]
  },
  {
   "cell_type": "code",
   "execution_count": 1,
   "metadata": {
    "collapsed": false
   },
   "outputs": [],
   "source": [
    "using Convex, SCS\n",
    "using Gadfly"
   ]
  },
  {
   "cell_type": "markdown",
   "metadata": {},
   "source": [
    "This notebook implements [Linearly Constrained Market Makers](http://www.cs.princeton.edu/~mdudik/DudikEtAl13.pdf) (LCMMs) aka [Constraint-Generation based Market Makers](http://www.cs.princeton.edu/~mdudik/DudikLaPe12.pdf) (CGMMs), and is a step toward [decreasing utility market makers](http://arxiv.org/abs/1407.8161) that eliminate [just-in-time arbitrage](http://www.probabilityandfinance.com/GTP2014/Slides/Frongillo.pdf) and enable \"implicit submarket closing\".\n",
    "\n",
    "Note that in the CGMM paper (Dudik et. al., 2012), the sections 3.3 \"Projected gradient-descent update\" and 3.4 \"Coordinate-descent update for sums of LMSR markets\" describe convex optimization methods based on gradient/coordinate-descent. For a comparison of these methods to the Splitting Conic Solver (SCS) used here, which is based on ADMM (alternating direction method of multipliers), see the answers to [this quora question](http://www.quora.com/Convex-Optimization/Whats-the-advantage-of-alternating-direction-method-of-multipliers-ADMM-and-whats-the-use-case-for-this-type-of-method-compared-against-classic-gradient-descent-or-conjugate-gradient-descent-method)."
   ]
  },
  {
   "cell_type": "markdown",
   "metadata": {},
   "source": [
    "An Linearly Constrained Market Maker (LCMM) market structure, or \"block structure\", is specified by partitioning logically-related securities into independently-priced \"blocks\" or groups, which are treated as separate \"submarkets\". The logical relations then become constraints on the state prices within and across these submarkets.\n",
    "\n",
    "We start by specifying a block structure for a prediction market on Norway's performance in the Olympic games (see [Section 4.1 Linearly Constrainted Markets, Example 7](http://arxiv.org/abs/1407.8161)).  We choose a block structure that enables two types of bets: (1) bets on individual games (e.g. Norway wins gold in swimming), and (2) bets on how many gold medals are won in total (e.g. Norway wins 5 gold medals).\n",
    "\n",
    "We begin with an example world where there are three olympic games. This block structure has four submarkets with seven securities in total (i.e. K = 2n + 1, and n = 3). We represent the prices of these securities with the vector K:\n",
    "  * K1 : Norway wins gold in men's weightlifting\n",
    "  * K2 : Norway wins gold in men's swimming\n",
    "  * K3 : Norway wins gold in men's curling\n",
    "  * K4 : Norway wins a total of 0 gold medals\n",
    "  * K5 : Norway wins a total of 1 gold medal\n",
    "  * K6 : Norway wins a total of 2 gold medals\n",
    "  * K7 : Norway wins a total of 3 gold medals\n",
    "\n",
    "The block structure for this example is: { {K1}, {K2}, {K3}, {K4, K5, K6, K7} }. That is, there is one submarket each for K1, K2, and K3, and a submarket containing the four mutually-exclusive events K4-K7."
   ]
  },
  {
   "cell_type": "markdown",
   "metadata": {},
   "source": [
    "####Note:\n",
    "Ended up with a slightly different block structure than the one specified in Section 4.1  Example 7 of Dudik-2014. Instead of a single security on each game (win), there are two securities (win and lose). Thus, we have the securities:\n",
    "\n",
    "* K1 : Norway wins gold in men's weightlifting\n",
    "* K2 : Norway does not win gold in weightlifting\n",
    "* K3 : Norway wins gold in men's swimming\n",
    "* K4 : Norway does not win gold in swimming\n",
    "* K5 : Norway wins gold in men's curling\n",
    "* K6 : Norway does not win gold in curling\n",
    "* K7 : Norway wins a total of 0 gold medals\n",
    "* K8 : Norway wins a total of 1 gold medal\n",
    "* K9 : Norway wins a total of 2 gold medals\n",
    "* K10 : Norway wins a total of 3 gold medals\n",
    "\n",
    "and the block structure: { {K1,K2}, {K3,K4}, {K5,K6}, {K7, K8, K9, K10} }\n"
   ]
  },
  {
   "cell_type": "markdown",
   "metadata": {},
   "source": [
    "### Symbols and variable names\n",
    "\n",
    "* **K** : vector of security prices in the original security space (i.e. independent submarkets with unconstrained prices).\n",
    "\n",
    "* **q** : market maker inventory vector, with dimensionality K\n",
    "\n",
    "**A**<sup>T</sup>**µ** >= **b**\n",
    "\n",
    "> Letting a<sub>*m*</sub> denote the *m*th column of A, arbitrage opportunities open up if the price of the bundle a<sub>*m*</sub> falls below b<sub>*m*</sub>. For any **η** ∈ R<sup>M</sup><sub>+</sub>, the bundle **Aη** presents an arbitrage opportunity if priced below **b** · **η**.\n",
    "\n",
    "\n",
    "* **A** : matrix of constraints on security prices, with dimensionality KxM (K rows and M columns). one row per security, and one column per constraint.\n",
    "\n",
    "* **µ** : vector representing market maker's beliefs about event probabilities. same dimensionality as K.\n",
    "\n",
    "* **b** : column vector of constants (constraint equations are generated by the logical relations between submarkets). has dimensionality M (number of constraints).\n",
    "\n",
    "C(**q**) = inf<sub>η∈R<sup>M</sup><sub>+</sub></sub>[C<sub>⊕</sub>(**q** + **Aη**) - **b**·**η**]\n",
    "\n",
    "* objective function chooses **η** to minimize the difference between the direct-sum cost of a bundle **q** and arbitrage payoffs across submarkets\n",
    "\n",
    "* **η** : the arbitrage bundle, or \"bundle of bundles\". has dimensionality of M extended market maker state\n",
    "\n",
    "* C<sub>⊕</sub>(**q**) : direct sum of cost functions (i.e. one cost function per submarket).\n",
    "\n",
    "\n",
    "C<sup></sup>(**q**, **η**) = C<sub>⊕</sub>(**q** + **Aη**) - **b**·**η**\n",
    "\n",
    "* C(**q**, **η**) : extended cost function\n",
    "\n",
    "\n"
   ]
  },
  {
   "cell_type": "code",
   "execution_count": 2,
   "metadata": {
    "collapsed": false
   },
   "outputs": [
    {
     "data": {
      "text/plain": [
       "8-element Array{Int64,1}:\n",
       " 1\n",
       " 1\n",
       " 1\n",
       " 1\n",
       " 1\n",
       " 1\n",
       " 0\n",
       " 0"
      ]
     },
     "execution_count": 2,
     "metadata": {},
     "output_type": "execute_result"
    }
   ],
   "source": [
    "# matrix A contains the logical constraints between prices in the independent submarket blocks\n",
    "# each row in the matrix is a bundle (or constraint), each column is a security\n",
    "\n",
    "A_transpose = [\n",
    "     1 1 0 0 0 0 0 0 0 0; # submarket for first game, (weighlifting) (two mutually-exclusive options, wins or loses)\n",
    "     0 0 1 1 0 0 0 0 0 0; # submarket for second game (swimming)\n",
    "     0 0 0 0 1 1 0 0 0 0; # submarket for third game (curling)\n",
    "     0 0 0 0 0 0 1 1 1 1; # submarket for total count (four mutually-exclusive options)\n",
    "     1 0 1 0 1 0 1 0 0 0; # guaranteed to pay out 1 (either zero medals, or >= 1 medal)\n",
    "     0 1 0 1 0 1 0 1 1 1; # guaranteed to pay out 1 (either >= 1 medal, or loses every event)\n",
    "    -1 0 -1 0 -1 0 0 1 2 3; # sum of coefficients equals zero. if three gold medals are won, then -3 + 3 == 0\n",
    "    1 0 1 0 1 0 0 -1 -2 -3; # equality converted to two inequalities (i.e. +h >= 0 and -h >= 0)\n",
    "    ];\n",
    "\n",
    "\n",
    "A = A_transpose'\n",
    "\n",
    "b = [1; 1; 1; 1; 1; 1; 0; 0;] # 8 constraints"
   ]
  },
  {
   "cell_type": "markdown",
   "metadata": {},
   "source": [
    "### Test some trade sequences using LCMM with medal counts submarket structure"
   ]
  },
  {
   "cell_type": "code",
   "execution_count": 3,
   "metadata": {
    "collapsed": false
   },
   "outputs": [
    {
     "data": {
      "text/plain": [
       "Problem:\n",
       "minimize AbstractExpr with\n",
       "head: +\n",
       "size: (1, 1)\n",
       "sign: NoSign()\n",
       "vexity: ConvexVexity()\n",
       "\n",
       "subject to\n",
       "Constraint:\n",
       "== constraint\n",
       "lhs: Variable of\n",
       "size: (8, 1)\n",
       "sign: Positive()\n",
       "vexity: AffineVexity()\n",
       "rhs: 0\n",
       "vexity: AffineVexity()\n",
       "current status: not yet solved"
      ]
     },
     "execution_count": 3,
     "metadata": {},
     "output_type": "execute_result"
    }
   ],
   "source": [
    "# B_param is the liquidity parameter\n",
    "# chosen arbitrarily to work okay with the component amounts in q_vec_one and q_vec_two \n",
    "B_param = 25\n",
    "\n",
    "# η is the \"bundle of bundles\" (i.e. the market maker's internal vector of arbitrage bundles)\n",
    "η_init = Variable(8, Positive());\n",
    "η_one = Variable(8, Positive());\n",
    "η_two = Variable(8, Positive());\n",
    "\n",
    "# price propagation enabled, as arbitrage bundles can be greater than zero\n",
    "# DISABLES arbitrage opportunities\n",
    "# * arbitrage opportunities WILL NOT exist between submarkets\n",
    "# * market maker purchases arbitrage bundles before traders\n",
    "constraint_init = [η_init >= 0]\n",
    "constraint_one = [η_one >= 0]\n",
    "constraint_two = [η_two >= 0]\n",
    "\n",
    "\n",
    "# these constraints will set arbitrage bundles to zero, so prices can't propagate\n",
    "# used for testing (compare to regular LMSR cost functions)\n",
    "# ENABLES arbitrage opportunities\n",
    "# * arbitrage opportunities WILL exist between submarkets\n",
    "constraint_arb_init = η_init == 0\n",
    "constraint_arb_one = η_one == 0\n",
    "constraint_arb_two = η_two == 0\n",
    "\n",
    "\n",
    "# the cost of the q_zero bundle is the subsidy to create the market\n",
    "q_zero = [0,0,0,0,0,0,0,0,0,0] \n",
    "\n",
    "\n",
    "\n",
    "# these vectors test if prices propagate from submarket to submarket.\n",
    "# trade_two would cost a (uniform-prior) 0.25 if they were independent.\n",
    "# but since prices propagate, it costs 0.68\n",
    "#q_vec_one = [0,100,0,100,0,100,0,0,0,0]\n",
    "#q_vec_two = [0,100,0,100,0,100,1,0,0,0] \n",
    "\n",
    "\n",
    "\n",
    "# q_vec_one sets the most likely outcome to be Norway wins 0 gold medals\n",
    "# so q_vec_two (on Norway wins a gold medal in weightlifting)\n",
    "#   should cost less than 0.5 (the uniform-prior)\n",
    "# with arbitrage enabled, prices don't propagate and q_vec_two costs 0.5\n",
    "# with arbitrage disabled, prices propagate and q_vec_two costs 0.0486\n",
    "#q_vec_one = [0,0,0,0,0,0,300,0,0,0]\n",
    "#q_vec_two = [1,0,0,0,0,0,300,0,0,0] \n",
    "\n",
    "\n",
    "# q_vec_one sets the most likely outcome for each independent game to be \"does not win gold\"\n",
    "# q_vec_two buys one share on \"norway wins 0 gold\" and one share each on \"wins gold\" for each game\n",
    "# q_vec_two has a guaranteed payoff of at least 1\n",
    "#   so if prices do not propagate it might be an arbitrage opportunity\n",
    "# q_vec_two with arbitrage disabled costs 0.999 (no arbitrage opportuntity)\n",
    "# q_vec_two with arbitrage enabled costs 0.2537 (the 0.25 uniform price on the total count submarket)\n",
    "#   (plus the 0.0037.. cost of \"wins gold\" on all three games)\n",
    "q_vec_one = [0,350,0,350,0,350,0,0,0,0]\n",
    "q_vec_two = [1,350,1,350,1,350,1,0,0,0] \n",
    "\n",
    "\n",
    "\n",
    "initial_obj = (B_param*logsumexp( (q_zero[1:2] + (A*η_init)[1:2])/B_param )\n",
    "              + B_param*logsumexp( (q_zero[3:4] + (A*η_init)[3:4])/B_param )\n",
    "              + B_param*logsumexp( (q_zero[5:6] + (A*η_init)[5:6])/B_param )\n",
    "              + B_param*logsumexp( (q_zero[7:10] + (A*η_init)[7:10])/B_param ) - (b'*η_init))\n",
    "\n",
    "\n",
    "vec_one_obj = (B_param*logsumexp( (q_vec_one[1:2] + (A*η_one)[1:2])/B_param )\n",
    "              + B_param*logsumexp( (q_vec_one[3:4] + (A*η_one)[3:4])/B_param )\n",
    "              + B_param*logsumexp( (q_vec_one[5:6] + (A*η_one)[5:6])/B_param )\n",
    "              + B_param*logsumexp( (q_vec_one[7:10] + (A*η_one)[7:10])/B_param ) - (b'*η_one))\n",
    "\n",
    "\n",
    "vec_two_obj = (B_param*logsumexp( (q_vec_two[1:2] + (A*η_two)[1:2])/B_param )\n",
    "              + B_param*logsumexp( (q_vec_two[3:4] + (A*η_two)[3:4])/B_param )\n",
    "              + B_param*logsumexp( (q_vec_two[5:6] + (A*η_two)[5:6])/B_param )\n",
    "              + B_param*logsumexp( (q_vec_two[7:10] + (A*η_two)[7:10])/B_param ) - (b'*η_two))\n",
    "\n",
    "\n",
    "\n",
    "initial_cost = minimize(initial_obj, constraint_init)\n",
    "q_vec_one_cost = minimize(vec_one_obj, constraint_one)\n",
    "q_vec_two_cost = minimize(vec_two_obj, constraint_two)\n",
    "\n",
    "initial_arbable_cost = minimize(initial_obj, constraint_arb_init)\n",
    "q_vec_one_cost_arbable = minimize(vec_one_obj, constraint_arb_one)\n",
    "q_vec_two_cost_arbable = minimize(vec_two_obj, constraint_arb_two)\n"
   ]
  },
  {
   "cell_type": "code",
   "execution_count": 4,
   "metadata": {
    "collapsed": false
   },
   "outputs": [
    {
     "name": "stdout",
     "output_type": "stream",
     "text": [
      "----------------------------------------------------------------------------\n",
      "\tSCS v1.1.5 - Splitting Conic Solver\n",
      "\t(c) Brendan O'Donoghue, Stanford University, 2012\n",
      "----------------------------------------------------------------------------\n",
      "Lin-sys: sparse-direct, nnz in A = 89\n",
      "eps = 1.00e-04, alpha = 1.80, max_iters = 20000, normalize = 1, scale = 5.00\n",
      "Variables n = 23, constraints m = 51\n",
      "Cones:\tprimal zero / dual free vars: 1\n",
      "\tlinear vars: 20\n",
      "\texp vars: 30, dual exp vars: 0\n",
      "Setup time: 1.18e-03s\n",
      "----------------------------------------------------------------------------\n",
      " Iter | pri res | dua res | rel gap | pri obj | dua obj | kap/tau | time (s)\n",
      "----------------------------------------------------------------------------\n",
      "     0|      inf       inf       nan      -inf       inf       inf  9.50e-04 \n",
      "   100| 3.12e-03  5.48e-01  5.31e-03  8.66e+01  8.75e+01  1.35e-14  2.71e-02 \n",
      "   200| 4.53e-05  3.96e-03  5.25e-05  8.66e+01  8.66e+01  4.51e-15  5.45e-02 \n",
      "   280| 1.93e-06  9.32e-05  1.73e-06  8.66e+01  8.66e+01  1.35e-14  7.52e-02 \n",
      "----------------------------------------------------------------------------\n",
      "Status: Solved\n",
      "Timing: Total solve time: 7.53e-02s\n",
      "\tLin-sys: nnz in L factor: 195, avg solve time: 3.14e-06s\n",
      "\tCones: avg projection time: 2.59e-04s\n",
      "----------------------------------------------------------------------------\n",
      "Error metrics:\n",
      "dist(s, K) = 2.6695e-15, dist(y, K*) = 0.0000e+00, s'y/m = 1.0299e-08\n",
      "|Ax + s - b|_2 / (1 + |b|_2) = 1.9334e-06\n",
      "|A'y + c|_2 / (1 + |c|_2) = 9.3202e-05\n",
      "|c'x + b'y| / (1 + |c'x| + |b'y|) = 1.7309e-06\n",
      "----------------------------------------------------------------------------\n",
      "c'x = 86.6432, -b'y = 86.6435\n",
      "============================================================================\n"
     ]
    }
   ],
   "source": [
    "solve!(initial_cost, SCSSolver(verbose=3))"
   ]
  },
  {
   "cell_type": "code",
   "execution_count": 5,
   "metadata": {
    "collapsed": false
   },
   "outputs": [
    {
     "data": {
      "text/plain": [
       ":Optimal"
      ]
     },
     "execution_count": 5,
     "metadata": {},
     "output_type": "execute_result"
    }
   ],
   "source": [
    "initial_cost.status"
   ]
  },
  {
   "cell_type": "code",
   "execution_count": 6,
   "metadata": {
    "collapsed": false
   },
   "outputs": [
    {
     "data": {
      "text/plain": [
       "86.64317923612931"
      ]
     },
     "execution_count": 6,
     "metadata": {},
     "output_type": "execute_result"
    }
   ],
   "source": [
    "initial_cost.optval # subsidy to create or initialize market"
   ]
  },
  {
   "cell_type": "code",
   "execution_count": 7,
   "metadata": {
    "collapsed": false
   },
   "outputs": [
    {
     "data": {
      "text/plain": [
       "Variable of\n",
       "size: (8, 1)\n",
       "sign: Positive()\n",
       "vexity: AffineVexity()\n",
       "value: 8x1 Array{Float64,2}:\n",
       " 8.69185e-7 \n",
       " 8.69185e-7 \n",
       " 8.69185e-7 \n",
       " 4.40509e-6 \n",
       " 9.46841e-10\n",
       " 4.22506e-10\n",
       " 0.000544808\n",
       " 0.0010786  "
      ]
     },
     "execution_count": 7,
     "metadata": {},
     "output_type": "execute_result"
    }
   ],
   "source": [
    "η_init"
   ]
  },
  {
   "cell_type": "code",
   "execution_count": 8,
   "metadata": {
    "collapsed": false,
    "scrolled": true
   },
   "outputs": [
    {
     "name": "stdout",
     "output_type": "stream",
     "text": [
      "----------------------------------------------------------------------------\n",
      "\tSCS v1.1.5 - Splitting Conic Solver\n",
      "\t(c) Brendan O'Donoghue, Stanford University, 2012\n",
      "----------------------------------------------------------------------------\n",
      "Lin-sys: sparse-direct, nnz in A = 89\n",
      "eps = 1.00e-04, alpha = 1.80, max_iters = 20000, normalize = 1, scale = 5.00\n",
      "Variables n = 23, constraints m = 51\n",
      "Cones:\tprimal zero / dual free vars: 1\n",
      "\tlinear vars: 20\n",
      "\texp vars: 30, dual exp vars: 0\n",
      "Setup time: 1.52e-04s\n",
      "----------------------------------------------------------------------------\n",
      " Iter | pri res | dua res | rel gap | pri obj | dua obj | kap/tau | time (s)\n",
      "----------------------------------------------------------------------------\n",
      "     0|      inf       inf       nan       inf       inf       inf  2.85e-04 \n",
      "   100| 5.47e-03  5.63e-01  7.29e-06  1.07e+03  1.07e+03  5.23e-14  4.73e-02 \n",
      "   200| 6.17e-03  4.20e-01  2.72e-06  1.06e+03  1.06e+03  0.00e+00  9.87e-02 \n",
      "   300| 5.65e-03  3.20e-01  3.36e-07  1.06e+03  1.06e+03  6.67e-14  1.47e-01 \n",
      "   400| 4.86e-03  2.49e-01  2.05e-06  1.06e+03  1.06e+03  0.00e+00  1.92e-01 \n",
      "   500| 4.11e-03  1.98e-01  2.89e-06  1.05e+03  1.05e+03  0.00e+00  2.40e-01 \n",
      "   600| 3.49e-03  1.61e-01  3.18e-06  1.05e+03  1.05e+03  0.00e+00  2.87e-01 \n",
      "   700| 2.98e-03  1.34e-01  3.26e-06  1.05e+03  1.05e+03  0.00e+00  3.36e-01 \n",
      "   800| 2.58e-03  1.13e-01  3.17e-06  1.05e+03  1.05e+03  0.00e+00  3.89e-01 \n",
      "   900| 2.25e-03  9.73e-02  2.98e-06  1.05e+03  1.05e+03  0.00e+00  4.37e-01 \n",
      "  1000| 1.99e-03  8.47e-02  2.79e-06  1.05e+03  1.05e+03  0.00e+00  4.79e-01 \n",
      "  1100| 1.77e-03  7.46e-02  2.61e-06  1.05e+03  1.05e+03  0.00e+00  5.23e-01 \n",
      "  1200| 1.59e-03  6.64e-02  2.45e-06  1.05e+03  1.05e+03  0.00e+00  5.65e-01 \n",
      "  1300| 1.43e-03  5.95e-02  2.32e-06  1.05e+03  1.05e+03  6.12e-14  6.19e-01 \n",
      "  1400| 1.31e-03  5.38e-02  2.09e-06  1.05e+03  1.05e+03  6.29e-14  6.68e-01 \n",
      "  1500| 1.19e-03  4.90e-02  2.05e-06  1.05e+03  1.05e+03  0.00e+00  7.17e-01 \n",
      "  1600| 1.10e-03  4.48e-02  1.96e-06  1.05e+03  1.05e+03  6.62e-14  7.61e-01 \n",
      "  1700| 1.01e-03  4.12e-02  1.80e-06  1.05e+03  1.05e+03  6.76e-14  8.06e-01 \n",
      "  1800| 9.40e-04  3.81e-02  1.72e-06  1.05e+03  1.05e+03  0.00e+00  8.51e-01 \n",
      "  1900| 8.75e-04  3.53e-02  1.60e-06  1.05e+03  1.05e+03  0.00e+00  8.90e-01 \n",
      "  2000| 8.17e-04  3.29e-02  1.42e-06  1.05e+03  1.05e+03  0.00e+00  9.29e-01 \n",
      "  2100| 7.66e-04  3.07e-02  1.37e-06  1.05e+03  1.05e+03  0.00e+00  9.66e-01 \n",
      "  2200| 7.19e-04  2.88e-02  1.37e-06  1.05e+03  1.05e+03  0.00e+00  1.01e+00 \n",
      "  2300| 6.77e-04  2.70e-02  1.19e-06  1.05e+03  1.05e+03  0.00e+00  1.05e+00 \n",
      "  2400| 6.38e-04  2.55e-02  1.26e-06  1.05e+03  1.05e+03  0.00e+00  1.08e+00 \n",
      "  2500| 6.05e-04  2.40e-02  1.08e-06  1.05e+03  1.05e+03  0.00e+00  1.12e+00 \n",
      "  2600| 5.72e-04  2.27e-02  1.20e-06  1.05e+03  1.05e+03  0.00e+00  1.16e+00 \n",
      "  2700| 5.43e-04  2.15e-02  1.13e-06  1.05e+03  1.05e+03  0.00e+00  1.19e+00 \n",
      "  2800| 5.17e-04  2.05e-02  9.39e-07  1.05e+03  1.05e+03  0.00e+00  1.21e+00 \n",
      "  2900| 4.92e-04  1.94e-02  8.86e-07  1.05e+03  1.05e+03  0.00e+00  1.24e+00 \n",
      "  3000| 4.69e-04  1.85e-02  9.28e-07  1.05e+03  1.05e+03  0.00e+00  1.27e+00 \n",
      "  3100| 4.47e-04  1.77e-02  8.84e-07  1.05e+03  1.05e+03  0.00e+00  1.30e+00 \n",
      "  3200| 4.28e-04  1.69e-02  9.18e-07  1.05e+03  1.05e+03  0.00e+00  1.33e+00 \n",
      "  3300| 4.10e-04  1.61e-02  7.81e-07  1.05e+03  1.05e+03  0.00e+00  1.36e+00 \n",
      "  3400| 3.93e-04  1.54e-02  7.69e-07  1.05e+03  1.05e+03  0.00e+00  1.39e+00 \n",
      "  3500| 3.76e-04  1.48e-02  8.08e-07  1.05e+03  1.05e+03  0.00e+00  1.42e+00 \n",
      "  3600| 3.60e-04  1.42e-02  8.01e-07  1.05e+03  1.05e+03  0.00e+00  1.46e+00 \n",
      "  3700| 3.47e-04  1.36e-02  6.63e-07  1.05e+03  1.05e+03  0.00e+00  1.48e+00 \n",
      "  3800| 3.33e-04  1.30e-02  7.28e-07  1.05e+03  1.05e+03  0.00e+00  1.51e+00 \n",
      "  3900| 3.20e-04  1.25e-02  7.14e-07  1.05e+03  1.05e+03  0.00e+00  1.54e+00 \n",
      "  4000| 3.09e-04  1.20e-02  6.13e-07  1.05e+03  1.05e+03  0.00e+00  1.57e+00 \n",
      "  4100| 2.97e-04  1.16e-02  6.31e-07  1.05e+03  1.05e+03  0.00e+00  1.60e+00 \n",
      "  4200| 2.85e-04  1.12e-02  6.23e-07  1.05e+03  1.05e+03  0.00e+00  1.62e+00 \n",
      "  4300| 2.75e-04  1.08e-02  6.10e-07  1.05e+03  1.05e+03  0.00e+00  1.65e+00 \n",
      "  4400| 2.65e-04  1.04e-02  6.12e-07  1.05e+03  1.05e+03  0.00e+00  1.68e+00 \n",
      "  4500| 2.57e-04  9.99e-03  4.89e-07  1.05e+03  1.05e+03  0.00e+00  1.71e+00 \n",
      "  4600| 2.47e-04  9.63e-03  5.73e-07  1.05e+03  1.05e+03  0.00e+00  1.73e+00 \n",
      "  4700| 2.39e-04  9.30e-03  4.14e-07  1.05e+03  1.05e+03  0.00e+00  1.76e+00 \n",
      "  4800| 2.31e-04  8.97e-03  4.98e-07  1.05e+03  1.05e+03  0.00e+00  1.79e+00 \n",
      "  4900| 2.22e-04  8.66e-03  5.52e-07  1.05e+03  1.05e+03  0.00e+00  1.82e+00 \n",
      "  5000| 2.16e-04  8.37e-03  4.62e-07  1.05e+03  1.05e+03  0.00e+00  1.85e+00 \n",
      "  5100| 2.09e-04  8.09e-03  3.94e-07  1.05e+03  1.05e+03  0.00e+00  1.88e+00 \n",
      "  5200| 2.01e-04  7.81e-03  4.88e-07  1.05e+03  1.05e+03  0.00e+00  1.90e+00 \n",
      "  5300| 1.95e-04  7.55e-03  4.55e-07  1.05e+03  1.05e+03  0.00e+00  1.93e+00 \n",
      "  5400| 1.88e-04  7.30e-03  4.62e-07  1.05e+03  1.05e+03  0.00e+00  1.96e+00 \n",
      "  5500| 1.83e-04  7.06e-03  2.78e-07  1.05e+03  1.05e+03  0.00e+00  1.99e+00 \n",
      "  5600| 1.77e-04  6.82e-03  3.98e-07  1.05e+03  1.05e+03  0.00e+00  2.02e+00 \n",
      "  5700| 1.70e-04  6.61e-03  3.19e-07  1.05e+03  1.05e+03  0.00e+00  2.05e+00 \n",
      "  5800| 1.65e-04  6.39e-03  3.17e-07  1.05e+03  1.05e+03  0.00e+00  2.08e+00 \n",
      "  5900| 1.59e-04  6.18e-03  3.45e-07  1.05e+03  1.05e+03  0.00e+00  2.11e+00 \n",
      "  6000| 1.54e-04  5.98e-03  3.88e-07  1.05e+03  1.05e+03  0.00e+00  2.14e+00 \n",
      "  6100| 1.50e-04  5.78e-03  3.69e-07  1.05e+03  1.05e+03  0.00e+00  2.17e+00 \n",
      "  6200| 1.45e-04  5.60e-03  4.04e-07  1.05e+03  1.05e+03  0.00e+00  2.19e+00 \n",
      "  6300| 1.40e-04  5.42e-03  2.91e-07  1.05e+03  1.05e+03  0.00e+00  2.22e+00 \n",
      "  6400| 1.36e-04  5.25e-03  2.18e-07  1.05e+03  1.05e+03  0.00e+00  2.25e+00 \n",
      "  6500| 1.32e-04  5.08e-03  2.59e-07  1.05e+03  1.05e+03  0.00e+00  2.28e+00 \n",
      "  6600| 1.27e-04  4.91e-03  2.89e-07  1.05e+03  1.05e+03  0.00e+00  2.31e+00 \n",
      "  6700| 1.23e-04  4.76e-03  2.18e-07  1.05e+03  1.05e+03  0.00e+00  2.34e+00 \n",
      "  6800| 1.19e-04  4.60e-03  2.49e-07  1.05e+03  1.05e+03  0.00e+00  2.38e+00 \n",
      "  6900| 1.15e-04  4.46e-03  2.17e-07  1.05e+03  1.05e+03  0.00e+00  2.42e+00 \n",
      "  7000| 1.12e-04  4.32e-03  2.02e-07  1.05e+03  1.05e+03  0.00e+00  2.46e+00 \n",
      "  7100| 1.08e-04  4.18e-03  2.52e-07  1.05e+03  1.05e+03  0.00e+00  2.49e+00 \n",
      "  7200| 1.05e-04  4.04e-03  2.47e-07  1.05e+03  1.05e+03  0.00e+00  2.52e+00 \n",
      "  7300| 1.01e-04  3.92e-03  1.86e-07  1.05e+03  1.05e+03  0.00e+00  2.55e+00 \n",
      "  7400| 9.83e-05  3.79e-03  1.78e-07  1.05e+03  1.05e+03  0.00e+00  2.58e+00 \n",
      "  7500| 9.51e-05  3.67e-03  2.03e-07  1.05e+03  1.05e+03  0.00e+00  2.61e+00 \n",
      "  7600| 9.20e-05  3.55e-03  1.98e-07  1.05e+03  1.05e+03  0.00e+00  2.64e+00 \n",
      "  7700| 8.90e-05  3.44e-03  1.68e-07  1.05e+03  1.05e+03  0.00e+00  2.68e+00 \n",
      "  7800| 8.61e-05  3.33e-03  1.95e-07  1.05e+03  1.05e+03  0.00e+00  2.71e+00 \n",
      "  7900| 8.34e-05  3.22e-03  1.14e-07  1.05e+03  1.05e+03  0.00e+00  2.74e+00 \n",
      "  8000| 8.07e-05  3.11e-03  1.87e-07  1.05e+03  1.05e+03  0.00e+00  2.77e+00 \n",
      "  8100| 7.81e-05  3.01e-03  1.63e-07  1.05e+03  1.05e+03  0.00e+00  2.80e+00 \n",
      "  8200| 7.59e-05  2.91e-03  1.83e-07  1.05e+03  1.05e+03  0.00e+00  2.83e+00 \n",
      "  8300| 7.33e-05  2.82e-03  2.16e-07  1.05e+03  1.05e+03  0.00e+00  2.87e+00 \n",
      "  8400| 7.12e-05  2.73e-03  1.66e-07  1.05e+03  1.05e+03  0.00e+00  2.90e+00 \n",
      "  8500| 6.89e-05  2.64e-03  1.11e-07  1.05e+03  1.05e+03  0.00e+00  2.94e+00 \n",
      "  8600| 6.63e-05  2.56e-03  1.86e-07  1.05e+03  1.05e+03  0.00e+00  2.98e+00 \n",
      "  8700| 6.42e-05  2.47e-03  2.11e-07  1.05e+03  1.05e+03  0.00e+00  3.01e+00 \n",
      "  8800| 6.20e-05  2.39e-03  1.13e-07  1.05e+03  1.05e+03  0.00e+00  3.04e+00 \n",
      "  8900| 6.02e-05  2.31e-03  1.69e-07  1.05e+03  1.05e+03  0.00e+00  3.08e+00 \n",
      "  9000| 5.86e-05  2.24e-03  1.19e-07  1.05e+03  1.05e+03  0.00e+00  3.11e+00 \n",
      "  9100| 5.66e-05  2.17e-03  7.33e-08  1.05e+03  1.05e+03  0.00e+00  3.15e+00 \n",
      "  9200| 5.43e-05  2.09e-03  1.82e-07  1.05e+03  1.05e+03  0.00e+00  3.18e+00 \n",
      "  9300| 5.25e-05  2.03e-03  7.90e-08  1.05e+03  1.05e+03  0.00e+00  3.22e+00 \n",
      "  9400| 5.09e-05  1.96e-03  8.56e-08  1.05e+03  1.05e+03  0.00e+00  3.25e+00 \n",
      "  9500| 4.91e-05  1.90e-03  1.13e-07  1.05e+03  1.05e+03  0.00e+00  3.29e+00 \n",
      "  9600| 4.79e-05  1.83e-03  1.58e-07  1.05e+03  1.05e+03  0.00e+00  3.33e+00 \n",
      "  9700| 4.62e-05  1.77e-03  1.52e-07  1.05e+03  1.05e+03  0.00e+00  3.36e+00 \n",
      "  9800| 4.47e-05  1.71e-03  8.02e-08  1.05e+03  1.05e+03  0.00e+00  3.41e+00 \n",
      "  9900| 4.31e-05  1.66e-03  4.32e-08  1.05e+03  1.05e+03  0.00e+00  3.44e+00 \n",
      " 10000| 4.17e-05  1.60e-03  1.48e-07  1.05e+03  1.05e+03  0.00e+00  3.48e+00 \n",
      " 10100| 4.01e-05  1.55e-03  1.04e-07  1.05e+03  1.05e+03  0.00e+00  3.51e+00 \n",
      " 10200| 3.91e-05  1.50e-03  6.00e-08  1.05e+03  1.05e+03  0.00e+00  3.55e+00 \n",
      " 10300| 3.75e-05  1.45e-03  1.16e-07  1.05e+03  1.05e+03  0.00e+00  3.58e+00 \n",
      " 10400| 3.63e-05  1.40e-03  8.90e-08  1.05e+03  1.05e+03  0.00e+00  3.62e+00 \n",
      " 10500| 3.54e-05  1.35e-03  1.54e-08  1.05e+03  1.05e+03  0.00e+00  3.65e+00 \n",
      " 10600| 3.37e-05  1.31e-03  8.19e-08  1.05e+03  1.05e+03  0.00e+00  3.69e+00 \n",
      " 10700| 3.32e-05  1.27e-03  1.86e-08  1.05e+03  1.05e+03  0.00e+00  3.73e+00 \n",
      " 10800| 3.16e-05  1.22e-03  1.93e-08  1.05e+03  1.05e+03  0.00e+00  3.76e+00 \n",
      " 10900| 3.06e-05  1.18e-03  9.67e-08  1.05e+03  1.05e+03  0.00e+00  3.80e+00 \n",
      " 11000| 2.98e-05  1.14e-03  5.98e-08  1.05e+03  1.05e+03  0.00e+00  3.83e+00 \n",
      " 11100| 2.88e-05  1.10e-03  3.07e-08  1.05e+03  1.05e+03  0.00e+00  3.87e+00 \n",
      " 11200| 2.76e-05  1.06e-03  1.25e-07  1.05e+03  1.05e+03  0.00e+00  3.91e+00 \n",
      " 11300| 2.65e-05  1.03e-03  5.78e-08  1.05e+03  1.05e+03  0.00e+00  3.95e+00 \n",
      " 11400| 2.61e-05  9.95e-04  4.49e-08  1.05e+03  1.05e+03  0.00e+00  3.99e+00 \n",
      " 11500| 2.50e-05  9.62e-04  2.92e-08  1.05e+03  1.05e+03  0.00e+00  4.03e+00 \n",
      " 11600| 2.40e-05  9.26e-04  1.03e-07  1.05e+03  1.05e+03  0.00e+00  4.07e+00 \n",
      " 11700| 2.33e-05  8.97e-04  6.20e-08  1.05e+03  1.05e+03  0.00e+00  4.11e+00 \n",
      " 11800| 2.28e-05  8.66e-04  2.71e-08  1.05e+03  1.05e+03  0.00e+00  4.15e+00 \n",
      " 11900| 2.20e-05  8.35e-04  9.10e-08  1.05e+03  1.05e+03  0.00e+00  4.19e+00 \n",
      " 12000| 2.10e-05  8.10e-04  3.17e-08  1.05e+03  1.05e+03  0.00e+00  4.24e+00 \n",
      " 12100| 2.06e-05  7.80e-04  6.68e-08  1.05e+03  1.05e+03  0.00e+00  4.29e+00 \n",
      " 12200| 1.99e-05  7.55e-04  3.10e-09  1.05e+03  1.05e+03  0.00e+00  4.33e+00 \n",
      " 12300| 1.91e-05  7.27e-04  6.71e-08  1.05e+03  1.05e+03  0.00e+00  4.37e+00 \n",
      " 12400| 1.82e-05  7.02e-04  8.30e-08  1.05e+03  1.05e+03  0.00e+00  4.42e+00 \n",
      " 12500| 1.76e-05  6.81e-04  2.54e-08  1.05e+03  1.05e+03  0.00e+00  4.46e+00 \n",
      " 12600| 1.70e-05  6.59e-04  2.66e-08  1.05e+03  1.05e+03  0.00e+00  4.50e+00 \n",
      " 12700| 1.64e-05  6.37e-04  8.04e-09  1.05e+03  1.05e+03  0.00e+00  4.54e+00 \n",
      " 12800| 1.57e-05  6.11e-04  8.16e-08  1.05e+03  1.05e+03  0.00e+00  4.58e+00 \n",
      " 12900| 1.53e-05  5.91e-04  5.05e-08  1.05e+03  1.05e+03  0.00e+00  4.62e+00 \n",
      " 13000| 1.50e-05  5.70e-04  8.72e-08  1.05e+03  1.05e+03  0.00e+00  4.66e+00 \n",
      " 13100| 1.41e-05  5.53e-04  8.71e-09  1.05e+03  1.05e+03  0.00e+00  4.70e+00 \n",
      " 13200| 1.40e-05  5.31e-04  7.32e-08  1.05e+03  1.05e+03  0.00e+00  4.74e+00 \n",
      " 13300| 1.35e-05  5.15e-04  1.98e-08  1.05e+03  1.05e+03  0.00e+00  4.78e+00 \n",
      " 13400| 1.28e-05  4.99e-04  1.52e-08  1.05e+03  1.05e+03  0.00e+00  4.82e+00 \n",
      " 13500| 1.25e-05  4.79e-04  1.09e-08  1.05e+03  1.05e+03  0.00e+00  4.86e+00 \n",
      " 13600| 1.21e-05  4.63e-04  3.85e-08  1.05e+03  1.05e+03  0.00e+00  4.90e+00 \n",
      " 13700| 1.16e-05  4.48e-04  3.30e-09  1.05e+03  1.05e+03  0.00e+00  4.94e+00 \n",
      " 13800| 1.14e-05  4.30e-04  4.20e-08  1.05e+03  1.05e+03  0.00e+00  4.98e+00 \n",
      " 13900| 1.11e-05  4.16e-04  2.26e-08  1.05e+03  1.05e+03  0.00e+00  5.02e+00 \n",
      " 14000| 1.06e-05  4.01e-04  5.93e-08  1.05e+03  1.05e+03  0.00e+00  5.07e+00 \n",
      " 14100| 9.84e-06  3.89e-04  2.69e-08  1.05e+03  1.05e+03  0.00e+00  5.11e+00 \n",
      " 14200| 9.63e-06  3.74e-04  5.16e-08  1.05e+03  1.05e+03  0.00e+00  5.15e+00 \n",
      " 14300| 9.48e-06  3.61e-04  3.81e-08  1.05e+03  1.05e+03  0.00e+00  5.19e+00 \n",
      " 14400| 9.09e-06  3.49e-04  3.60e-08  1.05e+03  1.05e+03  0.00e+00  5.22e+00 \n",
      " 14500| 8.69e-06  3.37e-04  3.01e-08  1.05e+03  1.05e+03  0.00e+00  5.26e+00 \n",
      " 14600| 8.34e-06  3.26e-04  1.12e-08  1.05e+03  1.05e+03  0.00e+00  5.30e+00 \n",
      " 14700| 8.35e-06  3.16e-04  4.78e-09  1.05e+03  1.05e+03  0.00e+00  5.33e+00 \n",
      " 14800| 7.73e-06  3.01e-04  7.24e-08  1.05e+03  1.05e+03  0.00e+00  5.38e+00 \n",
      " 14900| 7.55e-06  2.94e-04  1.85e-08  1.05e+03  1.05e+03  0.00e+00  5.44e+00 \n",
      " 15000| 7.45e-06  2.81e-04  5.09e-08  1.05e+03  1.05e+03  0.00e+00  5.50e+00 \n",
      " 15100| 7.20e-06  2.75e-04  4.67e-08  1.05e+03  1.05e+03  0.00e+00  5.54e+00 \n",
      " 15200| 6.90e-06  2.63e-04  3.45e-08  1.05e+03  1.05e+03  0.00e+00  5.58e+00 \n",
      " 15300| 6.68e-06  2.55e-04  1.68e-09  1.05e+03  1.05e+03  0.00e+00  5.62e+00 \n",
      " 15400| 6.23e-06  2.45e-04  4.97e-08  1.05e+03  1.05e+03  0.00e+00  5.66e+00 \n",
      " 15500| 6.32e-06  2.37e-04  1.58e-08  1.05e+03  1.05e+03  0.00e+00  5.70e+00 \n",
      " 15600| 5.83e-06  2.29e-04  3.32e-08  1.05e+03  1.05e+03  0.00e+00  5.74e+00 \n",
      " 15700| 5.80e-06  2.20e-04  4.28e-08  1.05e+03  1.05e+03  0.00e+00  5.79e+00 \n",
      " 15800| 5.72e-06  2.13e-04  1.58e-09  1.05e+03  1.05e+03  0.00e+00  5.83e+00 \n",
      " 15900| 5.20e-06  2.06e-04  8.74e-09  1.05e+03  1.05e+03  0.00e+00  5.87e+00 \n",
      " 16000| 5.52e-06  1.96e-04  4.25e-08  1.05e+03  1.05e+03  0.00e+00  5.91e+00 \n",
      " 16100| 4.97e-06  1.92e-04  3.15e-08  1.05e+03  1.05e+03  0.00e+00  5.95e+00 \n",
      " 16200| 4.76e-06  1.85e-04  2.20e-08  1.05e+03  1.05e+03  0.00e+00  5.99e+00 \n",
      " 16300| 4.58e-06  1.77e-04  4.20e-08  1.05e+03  1.05e+03  0.00e+00  6.03e+00 \n",
      " 16400| 4.56e-06  1.73e-04  1.17e-09  1.05e+03  1.05e+03  0.00e+00  6.07e+00 \n",
      " 16500| 4.24e-06  1.68e-04  3.24e-09  1.05e+03  1.05e+03  0.00e+00  6.11e+00 \n",
      " 16600| 4.22e-06  1.58e-04  6.74e-08  1.05e+03  1.05e+03  0.00e+00  6.15e+00 \n",
      " 16700| 4.15e-06  1.56e-04  3.29e-08  1.05e+03  1.05e+03  0.00e+00  6.18e+00 \n",
      " 16800| 4.03e-06  1.51e-04  1.82e-08  1.05e+03  1.05e+03  0.00e+00  6.22e+00 \n",
      " 16900| 3.88e-06  1.44e-04  1.75e-08  1.05e+03  1.05e+03  0.00e+00  6.26e+00 \n",
      " 17000| 3.52e-06  1.41e-04  1.47e-08  1.05e+03  1.05e+03  0.00e+00  6.29e+00 \n",
      " 17100| 3.51e-06  1.36e-04  1.49e-08  1.05e+03  1.05e+03  0.00e+00  6.33e+00 \n",
      " 17200| 3.33e-06  1.30e-04  4.37e-09  1.05e+03  1.05e+03  0.00e+00  6.38e+00 \n",
      " 17300| 3.39e-06  1.24e-04  1.54e-08  1.05e+03  1.05e+03  0.00e+00  6.41e+00 \n",
      " 17400| 3.11e-06  1.22e-04  7.23e-09  1.05e+03  1.05e+03  0.00e+00  6.45e+00 \n",
      " 17500| 2.93e-06  1.16e-04  4.56e-08  1.05e+03  1.05e+03  0.00e+00  6.48e+00 \n",
      " 17600| 2.99e-06  1.15e-04  1.77e-08  1.05e+03  1.05e+03  0.00e+00  6.52e+00 \n",
      " 17700| 2.87e-06  1.10e-04  1.24e-09  1.05e+03  1.05e+03  0.00e+00  6.55e+00 \n",
      " 17800| 2.64e-06  1.02e-04  8.07e-08  1.05e+03  1.05e+03  0.00e+00  6.59e+00 \n",
      " 17900| 2.75e-06  1.01e-04  1.97e-08  1.05e+03  1.05e+03  0.00e+00  6.63e+00 \n",
      " 17980| 2.51e-06  9.66e-05  7.37e-08  1.05e+03  1.05e+03  0.00e+00  6.65e+00 \n",
      "----------------------------------------------------------------------------\n",
      "Status: Solved\n",
      "Timing: Total solve time: 6.65e+00s\n",
      "\tLin-sys: nnz in L factor: 195, avg solve time: 2.66e-06s\n",
      "\tCones: avg projection time: 3.63e-04s\n",
      "----------------------------------------------------------------------------\n",
      "Error metrics:\n",
      "dist(s, K) = 4.4512e-16, dist(y, K*) = 8.0857e-10, s'y/m = 1.3168e-07\n",
      "|Ax + s - b|_2 / (1 + |b|_2) = 2.5068e-06\n",
      "|A'y + c|_2 / (1 + |c|_2) = 9.6575e-05\n",
      "|c'x + b'y| / (1 + |c'x| + |b'y|) = 7.3750e-08\n",
      "----------------------------------------------------------------------------\n",
      "c'x = 1050.0803, -b'y = 1050.0805\n",
      "============================================================================\n"
     ]
    }
   ],
   "source": [
    "solve!(q_vec_one_cost, SCSSolver(verbose=3))"
   ]
  },
  {
   "cell_type": "code",
   "execution_count": 9,
   "metadata": {
    "collapsed": false
   },
   "outputs": [
    {
     "data": {
      "text/plain": [
       "1050.0803250973631"
      ]
     },
     "execution_count": 9,
     "metadata": {},
     "output_type": "execute_result"
    }
   ],
   "source": [
    "q_vec_one_cost.optval"
   ]
  },
  {
   "cell_type": "code",
   "execution_count": 10,
   "metadata": {
    "collapsed": false
   },
   "outputs": [
    {
     "data": {
      "text/plain": [
       "Variable of\n",
       "size: (8, 1)\n",
       "sign: Positive()\n",
       "vexity: AffineVexity()\n",
       "value: 8x1 Array{Float64,2}:\n",
       "  0.000329687\n",
       "  0.000329687\n",
       "  0.000329687\n",
       "  4.08538e-5 \n",
       " 63.7263     \n",
       "  4.39947e-8 \n",
       "  3.66623e-8 \n",
       " 97.6806     "
      ]
     },
     "execution_count": 10,
     "metadata": {},
     "output_type": "execute_result"
    }
   ],
   "source": [
    "# bundle of bundles (each row is a quantity of one of the constraint bundles in the A matrix)\n",
    "η_one"
   ]
  },
  {
   "cell_type": "code",
   "execution_count": 11,
   "metadata": {
    "collapsed": false
   },
   "outputs": [
    {
     "data": {
      "text/plain": [
       "10x1 Array{Float64,2}:\n",
       "  161.407      \n",
       "    0.000329731\n",
       "  161.407      \n",
       "    0.000329731\n",
       "  161.407      \n",
       "    0.000329731\n",
       "   63.7263     \n",
       "  -97.6806     \n",
       " -195.361      \n",
       " -293.042      "
      ]
     },
     "execution_count": 11,
     "metadata": {},
     "output_type": "execute_result"
    }
   ],
   "source": [
    "# arbitrage bundle in the original security space\n",
    "A*η_one.value"
   ]
  },
  {
   "cell_type": "code",
   "execution_count": 12,
   "metadata": {
    "collapsed": false
   },
   "outputs": [
    {
     "data": {
      "text/plain": [
       "963.4371458612338"
      ]
     },
     "execution_count": 12,
     "metadata": {},
     "output_type": "execute_result"
    }
   ],
   "source": [
    "trade_one_cost = q_vec_one_cost.optval - initial_cost.optval"
   ]
  },
  {
   "cell_type": "code",
   "execution_count": 13,
   "metadata": {
    "collapsed": false,
    "scrolled": true
   },
   "outputs": [
    {
     "name": "stdout",
     "output_type": "stream",
     "text": [
      "----------------------------------------------------------------------------\n",
      "\tSCS v1.1.5 - Splitting Conic Solver\n",
      "\t(c) Brendan O'Donoghue, Stanford University, 2012\n",
      "----------------------------------------------------------------------------\n",
      "Lin-sys: sparse-direct, nnz in A = 89\n",
      "eps = 1.00e-04, alpha = 1.80, max_iters = 20000, normalize = 1, scale = 5.00\n",
      "Variables n = 23, constraints m = 51\n",
      "Cones:\tprimal zero / dual free vars: 1\n",
      "\tlinear vars: 20\n",
      "\texp vars: 30, dual exp vars: 0\n",
      "Setup time: 1.23e-04s\n",
      "----------------------------------------------------------------------------\n",
      " Iter | pri res | dua res | rel gap | pri obj | dua obj | kap/tau | time (s)\n",
      "----------------------------------------------------------------------------\n",
      "     0|      inf       inf       nan       inf       inf       inf  5.42e-04 \n",
      "   100| 5.36e-03  5.55e-01  2.33e-05  1.07e+03  1.07e+03  0.00e+00  5.97e-02 \n",
      "   200| 6.05e-03  4.15e-01  1.95e-05  1.06e+03  1.06e+03  0.00e+00  1.14e-01 \n",
      "   300| 5.56e-03  3.16e-01  1.47e-05  1.06e+03  1.06e+03  0.00e+00  1.65e-01 \n",
      "   400| 4.80e-03  2.46e-01  1.07e-05  1.06e+03  1.06e+03  0.00e+00  2.16e-01 \n",
      "   500| 4.08e-03  1.96e-01  7.82e-06  1.06e+03  1.06e+03  0.00e+00  2.69e-01 \n",
      "   600| 3.47e-03  1.60e-01  5.80e-06  1.05e+03  1.05e+03  0.00e+00  3.21e-01 \n",
      "   700| 2.97e-03  1.33e-01  4.43e-06  1.05e+03  1.05e+03  0.00e+00  3.74e-01 \n",
      "   800| 2.58e-03  1.13e-01  3.53e-06  1.05e+03  1.05e+03  0.00e+00  4.27e-01 \n",
      "   900| 2.25e-03  9.73e-02  2.81e-06  1.05e+03  1.05e+03  0.00e+00  4.80e-01 \n",
      "  1000| 1.99e-03  8.48e-02  2.26e-06  1.05e+03  1.05e+03  0.00e+00  5.32e-01 \n",
      "  1100| 1.77e-03  7.48e-02  1.86e-06  1.05e+03  1.05e+03  5.66e-14  5.83e-01 \n",
      "  1200| 1.59e-03  6.65e-02  1.61e-06  1.05e+03  1.05e+03  0.00e+00  6.32e-01 \n",
      "  1300| 1.44e-03  5.97e-02  1.38e-06  1.05e+03  1.05e+03  0.00e+00  6.82e-01 \n",
      "  1400| 1.31e-03  5.40e-02  1.15e-06  1.05e+03  1.05e+03  0.00e+00  7.30e-01 \n",
      "  1500| 1.20e-03  4.92e-02  9.65e-07  1.05e+03  1.05e+03  6.39e-14  8.13e-01 \n",
      "  1600| 1.10e-03  4.50e-02  8.73e-07  1.05e+03  1.05e+03  6.54e-14  8.77e-01 \n",
      "  1700| 1.02e-03  4.14e-02  7.30e-07  1.05e+03  1.05e+03  6.69e-14  9.27e-01 \n",
      "  1800| 9.46e-04  3.83e-02  6.61e-07  1.05e+03  1.05e+03  1.37e-13  9.71e-01 \n",
      "  1900| 8.81e-04  3.55e-02  6.54e-07  1.05e+03  1.05e+03  0.00e+00  1.01e+00 \n",
      "  2000| 8.23e-04  3.31e-02  6.36e-07  1.05e+03  1.05e+03  0.00e+00  1.05e+00 \n",
      "  2100| 7.72e-04  3.09e-02  5.26e-07  1.05e+03  1.05e+03  0.00e+00  1.09e+00 \n",
      "  2200| 7.24e-04  2.89e-02  4.92e-07  1.05e+03  1.05e+03  0.00e+00  1.13e+00 \n",
      "  2300| 6.82e-04  2.72e-02  4.68e-07  1.05e+03  1.05e+03  0.00e+00  1.18e+00 \n",
      "  2400| 6.45e-04  2.56e-02  4.07e-07  1.05e+03  1.05e+03  0.00e+00  1.23e+00 \n",
      "  2500| 6.10e-04  2.42e-02  4.30e-07  1.05e+03  1.05e+03  0.00e+00  1.28e+00 \n",
      "  2600| 5.76e-04  2.29e-02  2.88e-07  1.05e+03  1.05e+03  0.00e+00  1.32e+00 \n",
      "  2700| 5.48e-04  2.17e-02  3.37e-07  1.05e+03  1.05e+03  0.00e+00  1.36e+00 \n",
      "  2800| 5.20e-04  2.06e-02  2.23e-07  1.05e+03  1.05e+03  0.00e+00  1.40e+00 \n",
      "  2900| 4.97e-04  1.96e-02  3.28e-07  1.05e+03  1.05e+03  0.00e+00  1.44e+00 \n",
      "  3000| 4.74e-04  1.86e-02  3.22e-07  1.05e+03  1.05e+03  0.00e+00  1.48e+00 \n",
      "  3100| 4.51e-04  1.78e-02  2.00e-07  1.05e+03  1.05e+03  0.00e+00  1.51e+00 \n",
      "  3200| 4.33e-04  1.70e-02  2.95e-07  1.05e+03  1.05e+03  0.00e+00  1.55e+00 \n",
      "  3300| 4.13e-04  1.62e-02  1.75e-07  1.05e+03  1.05e+03  0.00e+00  1.58e+00 \n",
      "  3400| 3.96e-04  1.55e-02  1.41e-07  1.05e+03  1.05e+03  0.00e+00  1.62e+00 \n",
      "  3500| 3.79e-04  1.49e-02  1.31e-07  1.05e+03  1.05e+03  0.00e+00  1.65e+00 \n",
      "  3600| 3.64e-04  1.43e-02  1.06e-07  1.05e+03  1.05e+03  0.00e+00  1.68e+00 \n",
      "  3700| 3.50e-04  1.37e-02  8.85e-08  1.05e+03  1.05e+03  0.00e+00  1.71e+00 \n",
      "  3800| 3.37e-04  1.31e-02  2.37e-07  1.05e+03  1.05e+03  0.00e+00  1.74e+00 \n",
      "  3900| 3.25e-04  1.26e-02  2.14e-07  1.05e+03  1.05e+03  0.00e+00  1.79e+00 \n",
      "  4000| 3.11e-04  1.21e-02  5.77e-08  1.05e+03  1.05e+03  0.00e+00  1.82e+00 \n",
      "  4100| 2.99e-04  1.17e-02  1.03e-07  1.05e+03  1.05e+03  0.00e+00  1.86e+00 \n",
      "  4200| 2.88e-04  1.13e-02  6.66e-08  1.05e+03  1.05e+03  0.00e+00  1.89e+00 \n",
      "  4300| 2.78e-04  1.08e-02  1.05e-07  1.05e+03  1.05e+03  0.00e+00  1.93e+00 \n",
      "  4400| 2.68e-04  1.05e-02  5.04e-08  1.05e+03  1.05e+03  0.00e+00  1.96e+00 \n",
      "  4500| 2.60e-04  1.01e-02  1.28e-07  1.05e+03  1.05e+03  0.00e+00  1.99e+00 \n",
      "  4600| 2.50e-04  9.72e-03  1.83e-08  1.05e+03  1.05e+03  0.00e+00  2.03e+00 \n",
      "  4700| 2.41e-04  9.38e-03  2.86e-08  1.05e+03  1.05e+03  0.00e+00  2.06e+00 \n",
      "  4800| 2.33e-04  9.06e-03  5.80e-08  1.05e+03  1.05e+03  0.00e+00  2.09e+00 \n",
      "  4900| 2.25e-04  8.75e-03  5.28e-09  1.05e+03  1.05e+03  0.00e+00  2.13e+00 \n",
      "  5000| 2.17e-04  8.45e-03  8.95e-09  1.05e+03  1.05e+03  0.00e+00  2.16e+00 \n",
      "  5100| 2.11e-04  8.16e-03  5.70e-09  1.05e+03  1.05e+03  0.00e+00  2.20e+00 \n",
      "  5200| 2.04e-04  7.89e-03  2.00e-08  1.05e+03  1.05e+03  0.00e+00  2.23e+00 \n",
      "  5300| 1.97e-04  7.63e-03  9.95e-08  1.05e+03  1.05e+03  0.00e+00  2.26e+00 \n",
      "  5400| 1.90e-04  7.38e-03  6.25e-09  1.05e+03  1.05e+03  0.00e+00  2.30e+00 \n",
      "  5500| 1.85e-04  7.14e-03  1.05e-07  1.05e+03  1.05e+03  0.00e+00  2.33e+00 \n",
      "  5600| 1.79e-04  6.90e-03  1.55e-07  1.05e+03  1.05e+03  0.00e+00  2.36e+00 \n",
      "  5700| 1.73e-04  6.68e-03  3.40e-08  1.05e+03  1.05e+03  0.00e+00  2.39e+00 \n",
      "  5800| 1.67e-04  6.46e-03  9.83e-10  1.05e+03  1.05e+03  0.00e+00  2.43e+00 \n",
      "  5900| 1.61e-04  6.25e-03  5.15e-08  1.05e+03  1.05e+03  0.00e+00  2.46e+00 \n",
      "  6000| 1.57e-04  6.05e-03  8.54e-08  1.05e+03  1.05e+03  0.00e+00  2.49e+00 \n",
      "  6100| 1.52e-04  5.85e-03  5.76e-08  1.05e+03  1.05e+03  0.00e+00  2.52e+00 \n",
      "  6200| 1.47e-04  5.66e-03  5.91e-09  1.05e+03  1.05e+03  0.00e+00  2.56e+00 \n",
      "  6300| 1.42e-04  5.49e-03  6.45e-08  1.05e+03  1.05e+03  0.00e+00  2.60e+00 \n",
      "  6400| 1.38e-04  5.31e-03  1.44e-08  1.05e+03  1.05e+03  0.00e+00  2.63e+00 \n",
      "  6500| 1.33e-04  5.14e-03  8.68e-08  1.05e+03  1.05e+03  0.00e+00  2.67e+00 \n",
      "  6600| 1.29e-04  4.98e-03  1.31e-08  1.05e+03  1.05e+03  0.00e+00  2.70e+00 \n",
      "  6700| 1.25e-04  4.82e-03  9.15e-08  1.05e+03  1.05e+03  0.00e+00  2.74e+00 \n",
      "  6800| 1.21e-04  4.66e-03  3.10e-08  1.05e+03  1.05e+03  0.00e+00  2.78e+00 \n",
      "  6900| 1.17e-04  4.52e-03  1.28e-07  1.05e+03  1.05e+03  0.00e+00  2.82e+00 \n",
      "  7000| 1.14e-04  4.38e-03  7.56e-08  1.05e+03  1.05e+03  0.00e+00  2.86e+00 \n",
      "  7100| 1.10e-04  4.23e-03  3.19e-08  1.05e+03  1.05e+03  0.00e+00  2.90e+00 \n",
      "  7200| 1.06e-04  4.10e-03  1.04e-07  1.05e+03  1.05e+03  0.00e+00  2.94e+00 \n",
      "  7300| 1.03e-04  3.97e-03  8.71e-08  1.05e+03  1.05e+03  0.00e+00  2.98e+00 \n",
      "  7400| 1.00e-04  3.84e-03  9.07e-09  1.05e+03  1.05e+03  0.00e+00  3.02e+00 \n",
      "  7500| 9.66e-05  3.72e-03  5.29e-08  1.05e+03  1.05e+03  0.00e+00  3.06e+00 \n",
      "  7600| 9.36e-05  3.61e-03  9.04e-08  1.05e+03  1.05e+03  0.00e+00  3.09e+00 \n",
      "  7700| 9.07e-05  3.49e-03  4.23e-08  1.05e+03  1.05e+03  0.00e+00  3.13e+00 \n",
      "  7800| 8.81e-05  3.38e-03  1.46e-08  1.05e+03  1.05e+03  0.00e+00  3.17e+00 \n",
      "  7900| 8.49e-05  3.27e-03  8.24e-08  1.05e+03  1.05e+03  0.00e+00  3.21e+00 \n",
      "  8000| 8.23e-05  3.17e-03  4.30e-08  1.05e+03  1.05e+03  0.00e+00  3.25e+00 \n",
      "  8100| 8.02e-05  3.06e-03  3.49e-08  1.05e+03  1.05e+03  0.00e+00  3.29e+00 \n",
      "  8200| 7.71e-05  2.96e-03  2.27e-08  1.05e+03  1.05e+03  0.00e+00  3.33e+00 \n",
      "  8300| 7.47e-05  2.87e-03  8.49e-08  1.05e+03  1.05e+03  0.00e+00  3.37e+00 \n",
      "  8400| 7.23e-05  2.78e-03  2.81e-08  1.05e+03  1.05e+03  0.00e+00  3.41e+00 \n",
      "  8500| 6.99e-05  2.69e-03  8.67e-09  1.05e+03  1.05e+03  0.00e+00  3.44e+00 \n",
      "  8600| 6.80e-05  2.60e-03  3.98e-08  1.05e+03  1.05e+03  0.00e+00  3.48e+00 \n",
      "  8700| 6.56e-05  2.52e-03  1.12e-08  1.05e+03  1.05e+03  0.00e+00  3.52e+00 \n",
      "  8800| 6.36e-05  2.44e-03  4.81e-08  1.05e+03  1.05e+03  0.00e+00  3.55e+00 \n",
      "  8900| 6.11e-05  2.36e-03  1.31e-08  1.05e+03  1.05e+03  0.00e+00  3.59e+00 \n",
      "  9000| 5.99e-05  2.28e-03  6.69e-08  1.05e+03  1.05e+03  0.00e+00  3.63e+00 \n",
      "  9100| 5.80e-05  2.21e-03  5.02e-08  1.05e+03  1.05e+03  0.00e+00  3.67e+00 \n",
      "  9200| 5.59e-05  2.14e-03  7.68e-08  1.05e+03  1.05e+03  0.00e+00  3.70e+00 \n",
      "  9300| 5.39e-05  2.07e-03  9.45e-10  1.05e+03  1.05e+03  0.00e+00  3.73e+00 \n",
      "  9400| 5.24e-05  2.00e-03  6.07e-09  1.05e+03  1.05e+03  0.00e+00  3.78e+00 \n",
      "  9500| 5.04e-05  1.93e-03  9.98e-09  1.05e+03  1.05e+03  0.00e+00  3.83e+00 \n",
      "  9600| 4.87e-05  1.87e-03  2.78e-08  1.05e+03  1.05e+03  0.00e+00  3.87e+00 \n",
      "  9700| 4.69e-05  1.81e-03  5.38e-09  1.05e+03  1.05e+03  0.00e+00  3.91e+00 \n",
      "  9800| 4.59e-05  1.75e-03  4.65e-08  1.05e+03  1.05e+03  0.00e+00  3.95e+00 \n",
      "  9900| 4.43e-05  1.69e-03  1.79e-08  1.05e+03  1.05e+03  0.00e+00  3.98e+00 \n",
      " 10000| 4.27e-05  1.64e-03  2.77e-08  1.05e+03  1.05e+03  0.00e+00  4.02e+00 \n",
      " 10100| 4.17e-05  1.58e-03  1.37e-09  1.05e+03  1.05e+03  0.00e+00  4.05e+00 \n",
      " 10200| 4.00e-05  1.53e-03  4.84e-08  1.05e+03  1.05e+03  0.00e+00  4.09e+00 \n",
      " 10300| 3.89e-05  1.48e-03  8.30e-09  1.05e+03  1.05e+03  0.00e+00  4.13e+00 \n",
      " 10400| 3.71e-05  1.43e-03  5.54e-08  1.05e+03  1.05e+03  0.00e+00  4.16e+00 \n",
      " 10500| 3.63e-05  1.38e-03  1.30e-08  1.05e+03  1.05e+03  0.00e+00  4.20e+00 \n",
      " 10600| 3.52e-05  1.34e-03  5.64e-09  1.05e+03  1.05e+03  0.00e+00  4.23e+00 \n",
      " 10700| 3.37e-05  1.30e-03  5.98e-08  1.05e+03  1.05e+03  0.00e+00  4.28e+00 \n",
      " 10800| 3.27e-05  1.25e-03  4.72e-08  1.05e+03  1.05e+03  0.00e+00  4.32e+00 \n",
      " 10900| 3.16e-05  1.21e-03  5.42e-08  1.05e+03  1.05e+03  0.00e+00  4.35e+00 \n",
      " 11000| 3.06e-05  1.17e-03  6.10e-08  1.05e+03  1.05e+03  0.00e+00  4.39e+00 \n",
      " 11100| 2.94e-05  1.13e-03  3.18e-08  1.05e+03  1.05e+03  0.00e+00  4.42e+00 \n",
      " 11200| 2.84e-05  1.10e-03  1.00e-07  1.05e+03  1.05e+03  0.00e+00  4.45e+00 \n",
      " 11300| 2.78e-05  1.06e-03  5.49e-08  1.05e+03  1.05e+03  0.00e+00  4.49e+00 \n",
      " 11400| 2.68e-05  1.02e-03  1.23e-09  1.05e+03  1.05e+03  0.00e+00  4.53e+00 \n",
      " 11500| 2.56e-05  9.86e-04  3.93e-09  1.05e+03  1.05e+03  0.00e+00  4.56e+00 \n",
      " 11600| 2.52e-05  9.53e-04  4.01e-08  1.05e+03  1.05e+03  0.00e+00  4.60e+00 \n",
      " 11700| 2.40e-05  9.22e-04  5.48e-08  1.05e+03  1.05e+03  0.00e+00  4.63e+00 \n",
      " 11800| 2.31e-05  8.90e-04  1.53e-08  1.05e+03  1.05e+03  0.00e+00  4.67e+00 \n",
      " 11900| 2.26e-05  8.60e-04  5.95e-08  1.05e+03  1.05e+03  0.00e+00  4.70e+00 \n",
      " 12000| 2.15e-05  8.31e-04  2.63e-08  1.05e+03  1.05e+03  0.00e+00  4.73e+00 \n",
      " 12100| 2.12e-05  8.04e-04  6.28e-08  1.05e+03  1.05e+03  0.00e+00  4.77e+00 \n",
      " 12200| 2.03e-05  7.74e-04  3.00e-09  1.05e+03  1.05e+03  0.00e+00  4.80e+00 \n",
      " 12300| 1.96e-05  7.48e-04  1.39e-08  1.05e+03  1.05e+03  0.00e+00  4.84e+00 \n",
      " 12400| 1.87e-05  7.23e-04  2.65e-08  1.05e+03  1.05e+03  0.00e+00  4.87e+00 \n",
      " 12500| 1.83e-05  6.98e-04  4.19e-09  1.05e+03  1.05e+03  0.00e+00  4.90e+00 \n",
      " 12600| 1.77e-05  6.77e-04  7.19e-08  1.05e+03  1.05e+03  0.00e+00  4.94e+00 \n",
      " 12700| 1.69e-05  6.54e-04  3.00e-08  1.05e+03  1.05e+03  0.00e+00  4.97e+00 \n",
      " 12800| 1.66e-05  6.30e-04  9.40e-09  1.05e+03  1.05e+03  0.00e+00  5.01e+00 \n",
      " 12900| 1.56e-05  6.13e-04  7.66e-08  1.05e+03  1.05e+03  0.00e+00  5.04e+00 \n",
      " 13000| 1.53e-05  5.88e-04  4.57e-09  1.05e+03  1.05e+03  0.00e+00  5.08e+00 \n",
      " 13100| 1.51e-05  5.67e-04  8.60e-09  1.05e+03  1.05e+03  0.00e+00  5.11e+00 \n",
      " 13200| 1.43e-05  5.52e-04  6.34e-08  1.05e+03  1.05e+03  0.00e+00  5.14e+00 \n",
      " 13300| 1.38e-05  5.32e-04  4.08e-08  1.05e+03  1.05e+03  0.00e+00  5.18e+00 \n",
      " 13400| 1.35e-05  5.10e-04  2.46e-08  1.05e+03  1.05e+03  0.00e+00  5.21e+00 \n",
      " 13500| 1.31e-05  4.96e-04  3.46e-08  1.05e+03  1.05e+03  0.00e+00  5.25e+00 \n",
      " 13600| 1.24e-05  4.77e-04  9.71e-09  1.05e+03  1.05e+03  0.00e+00  5.28e+00 \n",
      " 13700| 1.19e-05  4.62e-04  9.86e-09  1.05e+03  1.05e+03  0.00e+00  5.32e+00 \n",
      " 13800| 1.15e-05  4.46e-04  5.80e-09  1.05e+03  1.05e+03  0.00e+00  5.35e+00 \n",
      " 13900| 1.13e-05  4.30e-04  1.18e-09  1.05e+03  1.05e+03  0.00e+00  5.39e+00 \n",
      " 14000| 1.08e-05  4.15e-04  9.56e-09  1.05e+03  1.05e+03  0.00e+00  5.42e+00 \n",
      " 14100| 1.05e-05  3.99e-04  5.32e-08  1.05e+03  1.05e+03  0.00e+00  5.45e+00 \n",
      " 14200| 1.01e-05  3.86e-04  4.52e-08  1.05e+03  1.05e+03  0.00e+00  5.48e+00 \n",
      " 14300| 9.96e-06  3.72e-04  4.46e-08  1.05e+03  1.05e+03  0.00e+00  5.51e+00 \n",
      " 14400| 9.44e-06  3.63e-04  4.83e-08  1.05e+03  1.05e+03  0.00e+00  5.54e+00 \n",
      " 14500| 9.25e-06  3.46e-04  7.29e-08  1.05e+03  1.05e+03  0.00e+00  5.58e+00 \n",
      " 14600| 8.60e-06  3.38e-04  2.96e-08  1.05e+03  1.05e+03  0.00e+00  5.61e+00 \n",
      " 14700| 8.68e-06  3.26e-04  1.26e-09  1.05e+03  1.05e+03  0.00e+00  5.64e+00 \n",
      " 14800| 8.02e-06  3.14e-04  1.24e-08  1.05e+03  1.05e+03  0.00e+00  5.67e+00 \n",
      " 14900| 7.98e-06  3.05e-04  4.60e-08  1.05e+03  1.05e+03  0.00e+00  5.70e+00 \n",
      " 15000| 7.45e-06  2.94e-04  5.41e-09  1.05e+03  1.05e+03  0.00e+00  5.74e+00 \n",
      " 15100| 7.37e-06  2.83e-04  6.20e-10  1.05e+03  1.05e+03  0.00e+00  5.77e+00 \n",
      " 15200| 7.22e-06  2.72e-04  1.24e-08  1.05e+03  1.05e+03  0.00e+00  5.82e+00 \n",
      " 15300| 6.86e-06  2.65e-04  5.72e-08  1.05e+03  1.05e+03  0.00e+00  5.86e+00 \n",
      " 15400| 6.70e-06  2.53e-04  2.76e-08  1.05e+03  1.05e+03  0.00e+00  5.90e+00 \n",
      " 15500| 6.36e-06  2.45e-04  1.35e-08  1.05e+03  1.05e+03  0.00e+00  5.94e+00 \n",
      " 15600| 5.96e-06  2.38e-04  2.06e-09  1.05e+03  1.05e+03  0.00e+00  5.97e+00 \n",
      " 15700| 5.91e-06  2.29e-04  5.92e-10  1.05e+03  1.05e+03  0.00e+00  6.01e+00 \n",
      " 15800| 5.73e-06  2.22e-04  1.75e-08  1.05e+03  1.05e+03  0.00e+00  6.05e+00 \n",
      " 15900| 5.59e-06  2.14e-04  3.19e-09  1.05e+03  1.05e+03  0.00e+00  6.08e+00 \n",
      " 16000| 5.38e-06  2.05e-04  2.13e-08  1.05e+03  1.05e+03  0.00e+00  6.12e+00 \n",
      " 16100| 5.26e-06  1.98e-04  1.43e-08  1.05e+03  1.05e+03  0.00e+00  6.16e+00 \n",
      " 16200| 5.27e-06  1.91e-04  1.28e-08  1.05e+03  1.05e+03  0.00e+00  6.19e+00 \n",
      " 16300| 4.65e-06  1.86e-04  1.49e-08  1.05e+03  1.05e+03  0.00e+00  6.23e+00 \n",
      " 16400| 4.68e-06  1.78e-04  1.97e-08  1.05e+03  1.05e+03  0.00e+00  6.27e+00 \n",
      " 16500| 4.45e-06  1.72e-04  3.48e-08  1.05e+03  1.05e+03  0.00e+00  6.30e+00 \n",
      " 16600| 4.18e-06  1.65e-04  4.38e-08  1.05e+03  1.05e+03  0.00e+00  6.34e+00 \n",
      " 16700| 4.30e-06  1.62e-04  3.54e-08  1.05e+03  1.05e+03  0.00e+00  6.37e+00 \n",
      " 16800| 4.14e-06  1.55e-04  1.88e-08  1.05e+03  1.05e+03  0.00e+00  6.41e+00 \n",
      " 16900| 4.07e-06  1.48e-04  3.62e-08  1.05e+03  1.05e+03  0.00e+00  6.44e+00 \n",
      " 17000| 3.89e-06  1.46e-04  1.33e-08  1.05e+03  1.05e+03  0.00e+00  6.48e+00 \n",
      " 17100| 3.77e-06  1.42e-04  4.00e-08  1.05e+03  1.05e+03  0.00e+00  6.51e+00 \n",
      " 17200| 3.45e-06  1.38e-04  4.32e-08  1.05e+03  1.05e+03  0.00e+00  6.55e+00 \n",
      " 17300| 3.42e-06  1.28e-04  5.35e-08  1.05e+03  1.05e+03  0.00e+00  6.58e+00 \n",
      " 17400| 3.38e-06  1.27e-04  2.53e-08  1.05e+03  1.05e+03  0.00e+00  6.61e+00 \n",
      " 17500| 3.36e-06  1.23e-04  5.00e-08  1.05e+03  1.05e+03  0.00e+00  6.65e+00 \n",
      " 17600| 3.15e-06  1.20e-04  4.63e-08  1.05e+03  1.05e+03  0.00e+00  6.68e+00 \n",
      " 17700| 3.07e-06  1.13e-04  1.02e-08  1.05e+03  1.05e+03  0.00e+00  6.71e+00 \n",
      " 17800| 2.90e-06  1.11e-04  2.24e-08  1.05e+03  1.05e+03  0.00e+00  6.75e+00 \n",
      " 17900| 2.78e-06  1.06e-04  2.00e-08  1.05e+03  1.05e+03  0.00e+00  6.80e+00 \n",
      " 18000| 2.68e-06  1.03e-04  1.38e-08  1.05e+03  1.05e+03  0.00e+00  6.86e+00 \n",
      " 18040| 2.74e-06  9.80e-05  6.55e-08  1.05e+03  1.05e+03  0.00e+00  6.87e+00 \n",
      "----------------------------------------------------------------------------\n",
      "Status: Solved\n",
      "Timing: Total solve time: 6.87e+00s\n",
      "\tLin-sys: nnz in L factor: 195, avg solve time: 2.60e-06s\n",
      "\tCones: avg projection time: 3.74e-04s\n",
      "----------------------------------------------------------------------------\n",
      "Error metrics:\n",
      "dist(s, K) = 3.1301e-16, dist(y, K*) = 5.5993e-09, s'y/m = 7.8002e-08\n",
      "|Ax + s - b|_2 / (1 + |b|_2) = 2.7413e-06\n",
      "|A'y + c|_2 / (1 + |c|_2) = 9.8020e-05\n",
      "|c'x + b'y| / (1 + |c'x| + |b'y|) = 6.5508e-08\n",
      "----------------------------------------------------------------------------\n",
      "c'x = 1051.0804, -b'y = 1051.0805\n",
      "============================================================================\n"
     ]
    }
   ],
   "source": [
    "solve!(q_vec_two_cost, SCSSolver(verbose=3))"
   ]
  },
  {
   "cell_type": "code",
   "execution_count": 14,
   "metadata": {
    "collapsed": false
   },
   "outputs": [
    {
     "data": {
      "text/plain": [
       "1051.0803794041922"
      ]
     },
     "execution_count": 14,
     "metadata": {},
     "output_type": "execute_result"
    }
   ],
   "source": [
    "q_vec_two_cost.optval"
   ]
  },
  {
   "cell_type": "code",
   "execution_count": 15,
   "metadata": {
    "collapsed": false
   },
   "outputs": [
    {
     "data": {
      "text/plain": [
       "Variable of\n",
       "size: (8, 1)\n",
       "sign: Positive()\n",
       "vexity: AffineVexity()\n",
       "value: 8x1 Array{Float64,2}:\n",
       "  0.000327812\n",
       "  0.000327812\n",
       "  0.000327812\n",
       "  4.10394e-5 \n",
       " 63.3105     \n",
       "  1.66283e-8 \n",
       " -4.39826e-9 \n",
       " 97.1        "
      ]
     },
     "execution_count": 15,
     "metadata": {},
     "output_type": "execute_result"
    }
   ],
   "source": [
    "η_two"
   ]
  },
  {
   "cell_type": "code",
   "execution_count": 16,
   "metadata": {
    "collapsed": false
   },
   "outputs": [
    {
     "data": {
      "text/plain": [
       "10x1 Array{Float64,2}:\n",
       "  160.411      \n",
       "    0.000327829\n",
       "  160.411      \n",
       "    0.000327829\n",
       "  160.411      \n",
       "    0.000327829\n",
       "   63.3105     \n",
       "  -97.1        \n",
       " -194.2        \n",
       " -291.3        "
      ]
     },
     "execution_count": 16,
     "metadata": {},
     "output_type": "execute_result"
    }
   ],
   "source": [
    "A*η_two.value"
   ]
  },
  {
   "cell_type": "code",
   "execution_count": 17,
   "metadata": {
    "collapsed": false
   },
   "outputs": [
    {
     "data": {
      "text/plain": [
       "1.0000543068290426"
      ]
     },
     "execution_count": 17,
     "metadata": {},
     "output_type": "execute_result"
    }
   ],
   "source": [
    "# cost is 1.0 because market-maker \"front-runs\" the arbitrage opportunity by buying η_two\n",
    "trade_two_cost = q_vec_two_cost.optval - q_vec_one_cost.optval"
   ]
  },
  {
   "cell_type": "markdown",
   "metadata": {},
   "source": [
    "### Now test the same sequence of bundles without removing arbitrage opportunities"
   ]
  },
  {
   "cell_type": "code",
   "execution_count": 18,
   "metadata": {
    "collapsed": false
   },
   "outputs": [
    {
     "name": "stdout",
     "output_type": "stream",
     "text": [
      "----------------------------------------------------------------------------\n",
      "\tSCS v1.1.5 - Splitting Conic Solver\n",
      "\t(c) Brendan O'Donoghue, Stanford University, 2012\n",
      "----------------------------------------------------------------------------\n",
      "Lin-sys: sparse-direct, nnz in A = 89\n",
      "eps = 1.00e-04, alpha = 1.80, max_iters = 20000, normalize = 1, scale = 5.00\n",
      "Variables n = 23, constraints m = 51\n",
      "Cones:\tprimal zero / dual free vars: 9\n",
      "\tlinear vars: 12\n",
      "\texp vars: 30, dual exp vars: 0\n",
      "Setup time: 1.38e-04s\n",
      "----------------------------------------------------------------------------\n",
      " Iter | pri res | dua res | rel gap | pri obj | dua obj | kap/tau | time (s)\n",
      "----------------------------------------------------------------------------\n",
      "     0|      inf       inf       nan      -inf       inf       inf  3.17e-04 \n",
      "   100| 3.12e-03  5.48e-01  5.31e-03  8.66e+01  8.75e+01  1.80e-14  2.60e-02 \n",
      "   200| 4.52e-05  3.96e-03  5.24e-05  8.66e+01  8.66e+01  0.00e+00  5.27e-02 \n",
      "   280| 1.87e-06  9.10e-05  1.73e-06  8.66e+01  8.66e+01  9.02e-15  7.05e-02 \n",
      "----------------------------------------------------------------------------\n",
      "Status: Solved\n",
      "Timing: Total solve time: 7.05e-02s\n",
      "\tLin-sys: nnz in L factor: 195, avg solve time: 2.21e-06s\n",
      "\tCones: avg projection time: 2.44e-04s\n",
      "----------------------------------------------------------------------------\n",
      "Error metrics:\n",
      "dist(s, K) = 1.3347e-15, dist(y, K*) = 0.0000e+00, s'y/m = 7.4765e-09\n",
      "|Ax + s - b|_2 / (1 + |b|_2) = 1.8707e-06\n",
      "|A'y + c|_2 / (1 + |c|_2) = 9.1015e-05\n",
      "|c'x + b'y| / (1 + |c'x| + |b'y|) = 1.7281e-06\n",
      "----------------------------------------------------------------------------\n",
      "c'x = 86.6432, -b'y = 86.6435\n",
      "============================================================================\n"
     ]
    }
   ],
   "source": [
    "solve!(initial_arbable_cost, SCSSolver(verbose=3))"
   ]
  },
  {
   "cell_type": "code",
   "execution_count": 19,
   "metadata": {
    "collapsed": false
   },
   "outputs": [
    {
     "data": {
      "text/plain": [
       ":Optimal"
      ]
     },
     "execution_count": 19,
     "metadata": {},
     "output_type": "execute_result"
    }
   ],
   "source": [
    "initial_arbable_cost.status"
   ]
  },
  {
   "cell_type": "code",
   "execution_count": 20,
   "metadata": {
    "collapsed": false
   },
   "outputs": [
    {
     "data": {
      "text/plain": [
       "86.64317535617148"
      ]
     },
     "execution_count": 20,
     "metadata": {},
     "output_type": "execute_result"
    }
   ],
   "source": [
    "initial_arbable_cost.optval"
   ]
  },
  {
   "cell_type": "code",
   "execution_count": 21,
   "metadata": {
    "collapsed": false
   },
   "outputs": [
    {
     "name": "stdout",
     "output_type": "stream",
     "text": [
      "----------------------------------------------------------------------------\n",
      "\tSCS v1.1.5 - Splitting Conic Solver\n",
      "\t(c) Brendan O'Donoghue, Stanford University, 2012\n",
      "----------------------------------------------------------------------------\n",
      "Lin-sys: sparse-direct, nnz in A = 89\n",
      "eps = 1.00e-04, alpha = 1.80, max_iters = 20000, normalize = 1, scale = 5.00\n",
      "Variables n = 23, constraints m = 51\n",
      "Cones:\tprimal zero / dual free vars: 9\n",
      "\tlinear vars: 12\n",
      "\texp vars: 30, dual exp vars: 0\n",
      "Setup time: 1.44e-04s\n",
      "----------------------------------------------------------------------------\n",
      " Iter | pri res | dua res | rel gap | pri obj | dua obj | kap/tau | time (s)\n",
      "----------------------------------------------------------------------------\n",
      "     0|      inf       inf       nan       inf       inf       inf  2.82e-04 \n",
      "    60| 6.60e-06  2.70e-05  3.88e-08  1.08e+03  1.08e+03  4.92e-14  2.62e-02 \n",
      "----------------------------------------------------------------------------\n",
      "Status: Solved\n",
      "Timing: Total solve time: 2.62e-02s\n",
      "\tLin-sys: nnz in L factor: 195, avg solve time: 2.21e-06s\n",
      "\tCones: avg projection time: 4.23e-04s\n",
      "----------------------------------------------------------------------------\n",
      "Error metrics:\n",
      "dist(s, K) = 1.4559e-14, dist(y, K*) = 0.0000e+00, s'y/m = -3.0378e-09\n",
      "|Ax + s - b|_2 / (1 + |b|_2) = 6.6040e-06\n",
      "|A'y + c|_2 / (1 + |c|_2) = 2.7027e-05\n",
      "|c'x + b'y| / (1 + |c'x| + |b'y|) = 3.8848e-08\n",
      "----------------------------------------------------------------------------\n",
      "c'x = 1084.6575, -b'y = 1084.6575\n",
      "============================================================================\n"
     ]
    }
   ],
   "source": [
    "solve!(q_vec_one_cost_arbable, SCSSolver(verbose=3))\n"
   ]
  },
  {
   "cell_type": "code",
   "execution_count": 22,
   "metadata": {
    "collapsed": false
   },
   "outputs": [
    {
     "data": {
      "text/plain": [
       "1084.6575383996378"
      ]
     },
     "execution_count": 22,
     "metadata": {},
     "output_type": "execute_result"
    }
   ],
   "source": [
    "q_vec_one_cost_arbable.optval"
   ]
  },
  {
   "cell_type": "code",
   "execution_count": 23,
   "metadata": {
    "collapsed": false
   },
   "outputs": [
    {
     "data": {
      "text/plain": [
       "Variable of\n",
       "size: (8, 1)\n",
       "sign: Positive()\n",
       "vexity: AffineVexity()\n",
       "value: 8x1 Array{Float64,2}:\n",
       "  3.37663e-11\n",
       "  3.37663e-11\n",
       "  3.37663e-11\n",
       "  6.64101e-11\n",
       " -3.82462e-7 \n",
       " -9.08304e-7 \n",
       " -8.9174e-7  \n",
       " -3.89386e-7 "
      ]
     },
     "execution_count": 23,
     "metadata": {},
     "output_type": "execute_result"
    }
   ],
   "source": [
    "η_one"
   ]
  },
  {
   "cell_type": "code",
   "execution_count": 24,
   "metadata": {
    "collapsed": false
   },
   "outputs": [
    {
     "data": {
      "text/plain": [
       "998.0143630434663"
      ]
     },
     "execution_count": 24,
     "metadata": {},
     "output_type": "execute_result"
    }
   ],
   "source": [
    "trade_one_cost_arbable = q_vec_one_cost_arbable.optval - initial_arbable_cost.optval"
   ]
  },
  {
   "cell_type": "code",
   "execution_count": 25,
   "metadata": {
    "collapsed": false
   },
   "outputs": [
    {
     "name": "stdout",
     "output_type": "stream",
     "text": [
      "----------------------------------------------------------------------------\n",
      "\tSCS v1.1.5 - Splitting Conic Solver\n",
      "\t(c) Brendan O'Donoghue, Stanford University, 2012\n",
      "----------------------------------------------------------------------------\n",
      "Lin-sys: sparse-direct, nnz in A = 89\n",
      "eps = 1.00e-04, alpha = 1.80, max_iters = 20000, normalize = 1, scale = 5.00\n",
      "Variables n = 23, constraints m = 51\n",
      "Cones:\tprimal zero / dual free vars: 9\n",
      "\tlinear vars: 12\n",
      "\texp vars: 30, dual exp vars: 0\n",
      "Setup time: 1.17e-04s\n",
      "----------------------------------------------------------------------------\n",
      " Iter | pri res | dua res | rel gap | pri obj | dua obj | kap/tau | time (s)\n",
      "----------------------------------------------------------------------------\n",
      "     0|      inf       inf       nan       inf       inf       inf  2.55e-04 \n",
      "    60| 6.04e-06  2.67e-05  4.55e-08  1.08e+03  1.08e+03  4.91e-14  3.32e-02 \n",
      "----------------------------------------------------------------------------\n",
      "Status: Solved\n",
      "Timing: Total solve time: 3.32e-02s\n",
      "\tLin-sys: nnz in L factor: 195, avg solve time: 2.92e-06s\n",
      "\tCones: avg projection time: 5.36e-04s\n",
      "----------------------------------------------------------------------------\n",
      "Error metrics:\n",
      "dist(s, K) = 7.2642e-15, dist(y, K*) = 0.0000e+00, s'y/m = 2.2248e-08\n",
      "|Ax + s - b|_2 / (1 + |b|_2) = 6.0379e-06\n",
      "|A'y + c|_2 / (1 + |c|_2) = 2.6696e-05\n",
      "|c'x + b'y| / (1 + |c'x| + |b'y|) = 4.5461e-08\n",
      "----------------------------------------------------------------------------\n",
      "c'x = 1084.9113, -b'y = 1084.9112\n",
      "============================================================================\n"
     ]
    }
   ],
   "source": [
    "solve!(q_vec_two_cost_arbable, SCSSolver(verbose=3))\n"
   ]
  },
  {
   "cell_type": "code",
   "execution_count": 26,
   "metadata": {
    "collapsed": false
   },
   "outputs": [
    {
     "data": {
      "text/plain": [
       "1084.9113051184097"
      ]
     },
     "execution_count": 26,
     "metadata": {},
     "output_type": "execute_result"
    }
   ],
   "source": [
    "q_vec_two_cost_arbable.optval"
   ]
  },
  {
   "cell_type": "code",
   "execution_count": 27,
   "metadata": {
    "collapsed": false
   },
   "outputs": [
    {
     "data": {
      "text/plain": [
       "0.2537667187718853"
      ]
     },
     "execution_count": 27,
     "metadata": {},
     "output_type": "execute_result"
    }
   ],
   "source": [
    "# arbitrage opportunity because cost is 0.2537.. for a guaranteed payoff of 1.0\n",
    "trade_two_cost_arbable = q_vec_two_cost_arbable.optval - q_vec_one_cost_arbable.optval"
   ]
  },
  {
   "cell_type": "code",
   "execution_count": 28,
   "metadata": {
    "collapsed": false
   },
   "outputs": [
    {
     "data": {
      "text/plain": [
       "Variable of\n",
       "size: (8, 1)\n",
       "sign: Positive()\n",
       "vexity: AffineVexity()\n",
       "value: 8x1 Array{Float64,2}:\n",
       "  3.49672e-11\n",
       "  3.49672e-11\n",
       "  3.49672e-11\n",
       "  6.39371e-11\n",
       " -3.73903e-7 \n",
       " -9.09838e-7 \n",
       " -8.91481e-7 \n",
       " -4.03853e-7 "
      ]
     },
     "execution_count": 28,
     "metadata": {},
     "output_type": "execute_result"
    }
   ],
   "source": [
    "η_two"
   ]
  },
  {
   "cell_type": "markdown",
   "metadata": {},
   "source": [
    "### Todo:\n",
    "* chart the LCMM prices of each outcome\n",
    "* compare prices on the independent submarkets to simple LMSR prices"
   ]
  }
 ],
 "metadata": {
  "kernelspec": {
   "display_name": "Julia 0.3.11",
   "language": "julia",
   "name": "julia-0.3"
  },
  "language_info": {
   "name": "julia",
   "version": "0.3.11"
  }
 },
 "nbformat": 4,
 "nbformat_minor": 0
}
