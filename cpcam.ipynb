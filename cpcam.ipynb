{
 "cells": [
  {
   "cell_type": "markdown",
   "metadata": {},
   "source": [
    "This notebook demonstrates a basic implementation of the [Convex Parimutuel Call Auction Mechanism](http://web.stanford.edu/~yyye/cpcam-ec.pdf) (CPCAM). The implementation is formulated as a [Disciplined Convex Programming](http://dcp.stanford.edu/home) problem solved with the [Splitting Conic Solver](https://github.com/cvxgrp/scs). For a brief background on the CPCAM and related auction mechanisms, see [these slides](http://www.stat.uchicago.edu/~lekheng/meetings/mathofranking/slides/ye.pdf). Another introduction to CPCAM can be found [here](https://books.google.com/books?id=ass9QaLCU1MC&lpg=PA14&dq=convex%20parimutuel%20call%20market&pg=PA24#v=onepage&q=convex%20parimutuel%20call%20market&f=false).\n",
    "\n",
    "For a longer discussion of such call auction or batch auction mechanisms, try my paper: [Smart Markets for Stablecoins](http://cdetr.io/smart-markets/). The [second example](http://cdetr.io/smart-markets/#LPAuctionChart) in that paper presents a batch auction solved by a Linear Programming (LP) method. As explained in the paper, the LP method does not guarantee the calculation of unique optimal clearing prices. The paper gives a set of example bids for which the LP method calculates non-unique state clearing prices of [0.40, 0.19, 0.22, 0.19].\n",
    "\n",
    "The CPCAM method presented here does guarantee unique optimal clearing prices. To show this, CPCAM is applied to the same set of bids, and calculates (approximate) unique optimal clearing prices of [0.401961, 0.199836, 0.199836, 0.199836].\n",
    "\n"
   ]
  },
  {
   "cell_type": "code",
   "execution_count": 1,
   "metadata": {
    "collapsed": false
   },
   "outputs": [],
   "source": [
    "using Convex, SCS"
   ]
  },
  {
   "cell_type": "code",
   "execution_count": 2,
   "metadata": {
    "collapsed": false
   },
   "outputs": [
    {
     "data": {
      "text/plain": [
       "4"
      ]
     },
     "execution_count": 2,
     "metadata": {},
     "output_type": "execute_result"
    }
   ],
   "source": [
    "s_total = 4; # number of market states / outcomes\n",
    "\n",
    "# j_total - number of bids\n",
    "# input data:\n",
    "# a_i,j - trader j's order on state i\n",
    "# pi_j - bid limit price\n",
    "# q_j - bid quantity\n",
    "#\n",
    "# free variables, calculated by algo:\n",
    "# x_j - bid order fill\n",
    "# s_i - state prices"
   ]
  },
  {
   "cell_type": "code",
   "execution_count": 3,
   "metadata": {
    "collapsed": false,
    "scrolled": false
   },
   "outputs": [
    {
     "data": {
      "text/plain": [
       "17-element Array{Float64,1}:\n",
       " 0.25\n",
       " 0.25\n",
       " 0.25\n",
       " 0.25\n",
       " 0.22\n",
       " 0.22\n",
       " 0.22\n",
       " 0.22\n",
       " 0.19\n",
       " 0.19\n",
       " 0.19\n",
       " 0.19\n",
       " 0.16\n",
       " 0.16\n",
       " 0.16\n",
       " 0.16\n",
       " 0.4 "
      ]
     },
     "execution_count": 3,
     "metadata": {},
     "output_type": "execute_result"
    }
   ],
   "source": [
    "a = [1 0 0 0; 0 1 0 0; 0 0 1 0; 0 0 0 1;\n",
    "    1 0 0 0; 0 1 0 0; 0 0 1 0; 0 0 0 1;\n",
    "    1 0 0 0; 0 1 0 0; 0 0 1 0; 0 0 0 1;\n",
    "    1 0 0 0; 0 1 0 0; 0 0 1 0; 0 0 0 1;\n",
    "    1 0 0 0]\n",
    "\n",
    "pi = [0.25, 0.25, 0.25, 0.25,\n",
    "      0.22, 0.22, 0.22, 0.22,\n",
    "      0.19, 0.19, 0.19, 0.19,\n",
    "      0.16, 0.16, 0.16, 0.16,\n",
    "      0.40]\n",
    "\n",
    "\n",
    "#a = [1 0 0 0; 0 1 0 0; 0 0 1 0; 0 0 0 1;\n",
    "#    1 0 0 0]\n",
    "\n",
    "#pi = [0.10, 0.10, 0.10, 0.10,\n",
    "#      0.40]"
   ]
  },
  {
   "cell_type": "code",
   "execution_count": 4,
   "metadata": {
    "collapsed": false
   },
   "outputs": [
    {
     "data": {
      "text/plain": [
       "17"
      ]
     },
     "execution_count": 4,
     "metadata": {},
     "output_type": "execute_result"
    }
   ],
   "source": [
    "j_total = size(a,1)"
   ]
  },
  {
   "cell_type": "code",
   "execution_count": 5,
   "metadata": {
    "collapsed": false
   },
   "outputs": [
    {
     "data": {
      "text/plain": [
       "Variable of\n",
       "size: (17, 1)\n",
       "sign: NoSign()\n",
       "vexity: AffineVexity()"
      ]
     },
     "execution_count": 5,
     "metadata": {},
     "output_type": "execute_result"
    }
   ],
   "source": [
    "s = Variable(s_total)\n",
    "M = Variable(1)\n",
    "x = Variable(j_total)\n",
    "#q = Variable(j_total)\n",
    "#pi = Variable(j_total)"
   ]
  },
  {
   "cell_type": "code",
   "execution_count": 6,
   "metadata": {
    "collapsed": false
   },
   "outputs": [
    {
     "data": {
      "text/plain": [
       "17-element Array{Int64,1}:\n",
       "  20\n",
       "  20\n",
       "  20\n",
       "  20\n",
       "  20\n",
       "  20\n",
       "  20\n",
       "  20\n",
       "  20\n",
       "  20\n",
       "  20\n",
       "  20\n",
       "  20\n",
       "  20\n",
       "  20\n",
       "  20\n",
       " 100"
      ]
     },
     "execution_count": 6,
     "metadata": {},
     "output_type": "execute_result"
    }
   ],
   "source": [
    "theta = [0.01, 0.01, 0.01, 0.01]\n",
    "q = [20 for j in 1:j_total-1]\n",
    "push!(q,100)"
   ]
  },
  {
   "cell_type": "code",
   "execution_count": 7,
   "metadata": {
    "collapsed": false,
    "scrolled": true
   },
   "outputs": [
    {
     "data": {
      "text/plain": [
       "7-element Array{Constraint,1}:\n",
       " Constraint:\n",
       "== constraint\n",
       "lhs: AbstractExpr with\n",
       "head: +\n",
       "size: (1, 1)\n",
       "sign: NoSign()\n",
       "vexity: AffineVexity()\n",
       "\n",
       "rhs: Variable of\n",
       "size: (1, 1)\n",
       "sign: NoSign()\n",
       "vexity: AffineVexity()\n",
       "vexity: AffineVexity()\n",
       " Constraint:\n",
       "== constraint\n",
       "lhs: AbstractExpr with\n",
       "head: +\n",
       "size: (1, 1)\n",
       "sign: NoSign()\n",
       "vexity: AffineVexity()\n",
       "\n",
       "rhs: Variable of\n",
       "size: (1, 1)\n",
       "sign: NoSign()\n",
       "vexity: AffineVexity()\n",
       "vexity: AffineVexity()\n",
       " Constraint:\n",
       "== constraint\n",
       "lhs: AbstractExpr with\n",
       "head: +\n",
       "size: (1, 1)\n",
       "sign: NoSign()\n",
       "vexity: AffineVexity()\n",
       "\n",
       "rhs: Variable of\n",
       "size: (1, 1)\n",
       "sign: NoSign()\n",
       "vexity: AffineVexity()\n",
       "vexity: AffineVexity()\n",
       " Constraint:\n",
       "== constraint\n",
       "lhs: AbstractExpr with\n",
       "head: +\n",
       "size: (1, 1)\n",
       "sign: NoSign()\n",
       "vexity: AffineVexity()\n",
       "\n",
       "rhs: Variable of\n",
       "size: (1, 1)\n",
       "sign: NoSign()\n",
       "vexity: AffineVexity()\n",
       "vexity: AffineVexity()\n",
       " Constraint:\n",
       ">= constraint\n",
       "lhs: Variable of\n",
       "size: (17, 1)\n",
       "sign: NoSign()\n",
       "vexity: AffineVexity()\n",
       "rhs: 0\n",
       "vexity: AffineVexity()                                                                           \n",
       " Constraint:\n",
       "<= constraint\n",
       "lhs: Variable of\n",
       "size: (17, 1)\n",
       "sign: NoSign()\n",
       "vexity: AffineVexity()\n",
       "rhs: [20,20,20,20,20,20,20,20,20,20,20,20,20,20,20,20,100]\n",
       "vexity: AffineVexity()                       \n",
       " Constraint:\n",
       ">= constraint\n",
       "lhs: Variable of\n",
       "size: (4, 1)\n",
       "sign: NoSign()\n",
       "vexity: AffineVexity()\n",
       "rhs: 0\n",
       "vexity: AffineVexity()                                                                            "
      ]
     },
     "execution_count": 7,
     "metadata": {},
     "output_type": "execute_result"
    }
   ],
   "source": [
    "constraints = []\n",
    "\n",
    "for i in 1 : s_total\n",
    "    sum_over_j = sum([a[j,i] * x[j] for j in 1:j_total])\n",
    "    constraints += sum_over_j + s[i] == M\n",
    "end\n",
    "\n",
    "constraints += [x >= 0; x <= q]\n",
    "constraints += s >= 0"
   ]
  },
  {
   "cell_type": "code",
   "execution_count": 8,
   "metadata": {
    "collapsed": false,
    "scrolled": true
   },
   "outputs": [
    {
     "data": {
      "text/plain": [
       "Problem:\n",
       "maximize AbstractExpr with\n",
       "head: +\n",
       "size: (1, 1)\n",
       "sign: NoSign()\n",
       "vexity: ConcaveVexity()\n",
       "\n",
       "subject to\n",
       "Constraint:\n",
       "== constraint\n",
       "lhs: AbstractExpr with\n",
       "head: +\n",
       "size: (1, 1)\n",
       "sign: NoSign()\n",
       "vexity: AffineVexity()\n",
       "\n",
       "rhs: Variable of\n",
       "size: (1, 1)\n",
       "sign: NoSign()\n",
       "vexity: AffineVexity()\n",
       "vexity: AffineVexity()\n",
       "\t\tConstraint:\n",
       "== constraint\n",
       "lhs: AbstractExpr with\n",
       "head: +\n",
       "size: (1, 1)\n",
       "sign: NoSign()\n",
       "vexity: AffineVexity()\n",
       "\n",
       "rhs: Variable of\n",
       "size: (1, 1)\n",
       "sign: NoSign()\n",
       "vexity: AffineVexity()\n",
       "vexity: AffineVexity()\n",
       "\t\tConstraint:\n",
       "== constraint\n",
       "lhs: AbstractExpr with\n",
       "head: +\n",
       "size: (1, 1)\n",
       "sign: NoSign()\n",
       "vexity: AffineVexity()\n",
       "\n",
       "rhs: Variable of\n",
       "size: (1, 1)\n",
       "sign: NoSign()\n",
       "vexity: AffineVexity()\n",
       "vexity: AffineVexity()\n",
       "\t\tConstraint:\n",
       "== constraint\n",
       "lhs: AbstractExpr with\n",
       "head: +\n",
       "size: (1, 1)\n",
       "sign: NoSign()\n",
       "vexity: AffineVexity()\n",
       "\n",
       "rhs: Variable of\n",
       "size: (1, 1)\n",
       "sign: NoSign()\n",
       "vexity: AffineVexity()\n",
       "vexity: AffineVexity()\n",
       "\t\tConstraint:\n",
       ">= constraint\n",
       "lhs: Variable of\n",
       "size: (17, 1)\n",
       "sign: NoSign()\n",
       "vexity: AffineVexity()\n",
       "rhs: 0\n",
       "vexity: AffineVexity()\n",
       "\t\tConstraint:\n",
       "<= constraint\n",
       "lhs: Variable of\n",
       "size: (17, 1)\n",
       "sign: NoSign()\n",
       "vexity: AffineVexity()\n",
       "rhs: [20,20,20,20,20,20,20,20,20,20,20,20,20,20,20,20,100]\n",
       "vexity: AffineVexity()\n",
       "\t\tConstraint:\n",
       ">= constraint\n",
       "lhs: Variable of\n",
       "size: (4, 1)\n",
       "sign: NoSign()\n",
       "vexity: AffineVexity()\n",
       "rhs: 0\n",
       "vexity: AffineVexity()\n",
       "current status: not yet solved"
      ]
     },
     "execution_count": 8,
     "metadata": {},
     "output_type": "execute_result"
    }
   ],
   "source": [
    "problem = maximize(dot(pi, x) - M + sum([theta[i] * log(s[i]) for i in 1:s_total]), constraints)"
   ]
  },
  {
   "cell_type": "code",
   "execution_count": 9,
   "metadata": {
    "collapsed": false
   },
   "outputs": [
    {
     "name": "stdout",
     "output_type": "stream",
     "text": [
      "----------------------------------------------------------------------------\n",
      "\tSCS v1.1.5 - Splitting Conic Solver\n",
      "\t(c) Brendan O'Donoghue, Stanford University, 2012\n",
      "----------------------------------------------------------------------------\n",
      "Lin-sys: sparse-direct, nnz in A = 94\n",
      "eps = 1.00e-04, alpha = 1.80, max_iters = 20000, normalize = 1, scale = 5.00\n",
      "Variables n = 27, constraints m = 55\n",
      "Cones:\tprimal zero / dual free vars: 5\n",
      "\tlinear vars: 38\n",
      "\texp vars: 12, dual exp vars: 0\n",
      "Setup time: 3.97e-03s\n",
      "----------------------------------------------------------------------------\n",
      " Iter | pri res | dua res | rel gap | pri obj | dua obj | kap/tau | time (s)\n",
      "----------------------------------------------------------------------------\n",
      "     0|      inf       inf       nan      -inf       inf       inf  9.06e-04 \n",
      "   100| 2.48e-03  2.84e-02  1.99e-01 -3.94e+00 -2.47e+00  0.00e+00  6.31e-03 \n",
      "   200| 1.46e-03  1.23e-02  1.07e-01 -3.99e+00 -5.07e+00  0.00e+00  1.15e-02 \n",
      "   300| 1.71e-03  4.82e-04  2.01e-03 -3.97e+00 -3.99e+00  0.00e+00  1.66e-02 \n",
      "   400| 5.43e-04  3.95e-03  3.72e-02 -4.02e+00 -3.70e+00  0.00e+00  2.17e-02 \n",
      "   500| 3.92e-04  1.43e-03  1.50e-02 -4.05e+00 -3.91e+00  0.00e+00  2.68e-02 \n",
      "   600| 2.76e-04  6.52e-04  5.14e-03 -4.04e+00 -4.09e+00  0.00e+00  3.16e-02 \n",
      "   700| 6.59e-05  7.01e-04  6.57e-03 -4.03e+00 -4.09e+00  0.00e+00  3.63e-02 \n",
      "   800| 8.62e-05  7.76e-05  1.02e-03 -4.03e+00 -4.04e+00  0.00e+00  4.10e-02 \n",
      "   900| 3.62e-05  1.86e-04  1.64e-03 -4.03e+00 -4.02e+00  0.00e+00  4.57e-02 \n",
      "  1000| 1.66e-05  9.73e-05  9.65e-04 -4.03e+00 -4.03e+00  0.00e+00  5.10e-02 \n",
      "  1080| 1.74e-05  3.83e-06  3.23e-05 -4.03e+00 -4.03e+00  0.00e+00  5.49e-02 \n",
      "----------------------------------------------------------------------------\n",
      "Status: Solved\n",
      "Timing: Total solve time: 5.60e-02s\n",
      "\tLin-sys: nnz in L factor: 180, avg solve time: 1.80e-06s\n",
      "\tCones: avg projection time: 4.62e-05s\n",
      "----------------------------------------------------------------------------\n",
      "Error metrics:\n",
      "dist(s, K) = 4.9184e-16, dist(y, K*) = 0.0000e+00, s'y/m = -4.3036e-10\n",
      "|Ax + s - b|_2 / (1 + |b|_2) = 1.7395e-05\n",
      "|A'y + c|_2 / (1 + |c|_2) = 3.8326e-06\n",
      "|c'x + b'y| / (1 + |c'x| + |b'y|) = 3.2319e-05\n",
      "----------------------------------------------------------------------------\n",
      "c'x = -4.0339, -b'y = -4.0336\n",
      "============================================================================\n"
     ]
    }
   ],
   "source": [
    "solve!(problem, SCSSolver(verbose=3))"
   ]
  },
  {
   "cell_type": "code",
   "execution_count": 10,
   "metadata": {
    "collapsed": false
   },
   "outputs": [
    {
     "data": {
      "text/plain": [
       "4.033912808329481"
      ]
     },
     "execution_count": 10,
     "metadata": {},
     "output_type": "execute_result"
    }
   ],
   "source": [
    "problem.optval"
   ]
  },
  {
   "cell_type": "code",
   "execution_count": 11,
   "metadata": {
    "collapsed": false
   },
   "outputs": [
    {
     "data": {
      "text/plain": [
       ":Optimal"
      ]
     },
     "execution_count": 11,
     "metadata": {},
     "output_type": "execute_result"
    }
   ],
   "source": [
    "problem.status"
   ]
  },
  {
   "cell_type": "code",
   "execution_count": 12,
   "metadata": {
    "collapsed": false
   },
   "outputs": [],
   "source": [
    "#s.value"
   ]
  },
  {
   "cell_type": "code",
   "execution_count": 13,
   "metadata": {
    "collapsed": false
   },
   "outputs": [
    {
     "data": {
      "text/plain": [
       "4x1 Array{Float64,2}:\n",
       " 0.401961\n",
       " 0.199836\n",
       " 0.199836\n",
       " 0.199836"
      ]
     },
     "execution_count": 13,
     "metadata": {},
     "output_type": "execute_result"
    }
   ],
   "source": [
    "prices = theta ./ s.value"
   ]
  },
  {
   "cell_type": "code",
   "execution_count": 14,
   "metadata": {
    "collapsed": false
   },
   "outputs": [
    {
     "data": {
      "text/plain": [
       "17x1 Array{Float64,2}:\n",
       " -0.000286848\n",
       " 20.0001     \n",
       " 20.0001     \n",
       " 20.0001     \n",
       " -0.000286705\n",
       " 20.0001     \n",
       " 20.0001     \n",
       " 20.0001     \n",
       " -0.000286563\n",
       "  9.13714e-5 \n",
       "  9.13714e-5 \n",
       "  9.13714e-5 \n",
       " -0.00028642 \n",
       "  9.15138e-5 \n",
       "  9.15138e-5 \n",
       "  9.15138e-5 \n",
       " 40.0292     "
      ]
     },
     "execution_count": 14,
     "metadata": {},
     "output_type": "execute_result"
    }
   ],
   "source": [
    "x.value"
   ]
  },
  {
   "cell_type": "code",
   "execution_count": null,
   "metadata": {
    "collapsed": true
   },
   "outputs": [],
   "source": []
  }
 ],
 "metadata": {
  "kernelspec": {
   "display_name": "Julia 0.3.11",
   "language": "julia",
   "name": "julia-0.3"
  },
  "language_info": {
   "name": "julia",
   "version": "0.3.11"
  }
 },
 "nbformat": 4,
 "nbformat_minor": 0
}
